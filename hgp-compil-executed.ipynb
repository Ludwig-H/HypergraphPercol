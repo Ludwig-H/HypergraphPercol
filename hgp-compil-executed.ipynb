{
 "cells": [
  {
   "cell_type": "markdown",
   "id": "816d2fe3",
   "metadata": {},
   "source": [
    "# HypergraphPercol Colab build\n",
    "\n",
    "This notebook reproduces the multi-stage Docker build pipeline inside a Google Colab runtime so that the `HypergraphPercol` package and its CGAL helpers are available directly from a Colab session."
   ]
  },
  {
   "cell_type": "markdown",
   "id": "4a061a3c",
   "metadata": {},
   "source": [
    "> **Execution order**\n",
    "> Run the cells sequentially from top to bottom in a fresh Colab runtime. The build relies on system packages, so restarting midway may require rerunning the earlier cells."
   ]
  },
  {
   "cell_type": "markdown",
   "id": "5252fee7",
   "metadata": {},
   "source": [
    "## 1. Install system dependencies\n",
    "\n",
    "The Dockerfile installs a series of Ubuntu packages that provide CGAL, Boost, Eigen and a modern build toolchain. We replicate the same setup here."
   ]
  },
  {
   "cell_type": "code",
   "execution_count": 1,
   "id": "4bb48837",
   "metadata": {
    "execution": {
     "iopub.execute_input": "2025-10-30T17:19:08.203461Z",
     "iopub.status.busy": "2025-10-30T17:19:08.202854Z",
     "iopub.status.idle": "2025-10-30T17:19:20.285870Z",
     "shell.execute_reply": "2025-10-30T17:19:20.284341Z"
    }
   },
   "outputs": [
    {
     "name": "stdout",
     "output_type": "stream",
     "text": [
      "Ign:1 https://mise.jdx.dev/deb stable InRelease\n"
     ]
    },
    {
     "name": "stdout",
     "output_type": "stream",
     "text": [
      "Hit:3 http://archive.ubuntu.com/ubuntu noble InRelease\n",
      "Hit:4 http://security.ubuntu.com/ubuntu noble"
     ]
    },
    {
     "name": "stdout",
     "output_type": "stream",
     "text": [
      "-security InRelease\n"
     ]
    },
    {
     "name": "stdout",
     "output_type": "stream",
     "text": [
      "Hit:2 https://apt.llvm.org/noble llvm-toolchain-noble-20 InRelease\n"
     ]
    },
    {
     "name": "stdout",
     "output_type": "stream",
     "text": [
      "Hit:5 http://archive.ubuntu.com/ubuntu noble-updates InRelease\n"
     ]
    },
    {
     "name": "stdout",
     "output_type": "stream",
     "text": [
      "Hit:6 http://archive.ubuntu.com/ubuntu noble-backports InRelease\n"
     ]
    },
    {
     "name": "stdout",
     "output_type": "stream",
     "text": [
      "Ign:1 https://mise.jdx.dev/deb stable InRelease\n"
     ]
    },
    {
     "name": "stdout",
     "output_type": "stream",
     "text": [
      "Ign:1 https://mise.jdx.dev/deb stable InRelease\n"
     ]
    },
    {
     "name": "stdout",
     "output_type": "stream",
     "text": [
      "Err:1 https://mise.jdx.dev/deb stable InRelease\n",
      "  Invalid response from proxy: HTTP/1.1 403 Forbidde"
     ]
    },
    {
     "name": "stdout",
     "output_type": "stream",
     "text": [
      "n  content-length: 16  content-type: text/plain  date: Thu, 30 Oct 2025 17:19:08 GMT  server: envoy "
     ]
    },
    {
     "name": "stdout",
     "output_type": "stream",
     "text": [
      " connection: close     [IP: 172.30.3.211 8080]\n"
     ]
    },
    {
     "name": "stdout",
     "output_type": "stream",
     "text": [
      "Reading package lists..."
     ]
    },
    {
     "name": "stdout",
     "output_type": "stream",
     "text": [
      "\n"
     ]
    },
    {
     "name": "stderr",
     "output_type": "stream",
     "text": [
      "W"
     ]
    },
    {
     "name": "stderr",
     "output_type": "stream",
     "text": [
      ": Failed to fetch https://mise.jdx.dev/deb/dists/stable/InRelease  Invalid response from proxy: HTTP"
     ]
    },
    {
     "name": "stderr",
     "output_type": "stream",
     "text": [
      "/1.1 403 Forbidden  content-length: 16  content-type: text/plain  date: Thu, 30 Oct 2025 17:19:08 GM"
     ]
    },
    {
     "name": "stderr",
     "output_type": "stream",
     "text": [
      "T  server: envoy  connection: close     [IP: 172.30.3.211 8080]\n",
      "W: Some index files failed to downlo"
     ]
    },
    {
     "name": "stderr",
     "output_type": "stream",
     "text": [
      "ad. They have been ignored, or old ones used instead.\n"
     ]
    },
    {
     "name": "stdout",
     "output_type": "stream",
     "text": [
      "Reading package lists..."
     ]
    },
    {
     "name": "stdout",
     "output_type": "stream",
     "text": [
      "\n"
     ]
    },
    {
     "name": "stdout",
     "output_type": "stream",
     "text": [
      "Building dependency tree..."
     ]
    },
    {
     "name": "stdout",
     "output_type": "stream",
     "text": [
      "\n",
      "Reading state information..."
     ]
    },
    {
     "name": "stdout",
     "output_type": "stream",
     "text": [
      "\n"
     ]
    },
    {
     "name": "stdout",
     "output_type": "stream",
     "text": [
      "build-essential is already the newest version (12.10ubuntu1).\n",
      "cmake is already the newest version (3"
     ]
    },
    {
     "name": "stdout",
     "output_type": "stream",
     "text": [
      ".28.3-1build7).\n",
      "git is already the newest version (1:2.43.0-1ubuntu7.3).\n",
      "libtbb-dev is already the n"
     ]
    },
    {
     "name": "stdout",
     "output_type": "stream",
     "text": [
      "ewest version (2021.11.0-2ubuntu2).\n",
      "libcgal-dev is already the newest version (5.6-1build3).\n",
      "libboos"
     ]
    },
    {
     "name": "stdout",
     "output_type": "stream",
     "text": [
      "t-all-dev is already the newest version (1.83.0.1ubuntu2).\n",
      "libeigen3-dev is already the newest versi"
     ]
    },
    {
     "name": "stdout",
     "output_type": "stream",
     "text": [
      "on (3.4.0-4build0.1).\n",
      "0 upgraded, 0 newly installed, 0 to remove and 53 not upgraded.\n"
     ]
    }
   ],
   "source": [
    "%%bash\n",
    "set -euo pipefail\n",
    "apt-get update\n",
    "DEBIAN_FRONTEND=noninteractive apt-get install -y     build-essential     cmake     git     libtbb-dev     libcgal-dev     libboost-all-dev     libeigen3-dev\n"
   ]
  },
  {
   "cell_type": "markdown",
   "id": "9905c755",
   "metadata": {},
   "source": [
    "## 2. Upgrade `pip` and core Python build tooling\n",
    "\n",
    "The compiled extensions require an up-to-date Python build stack along with Cython and NumPy 1.26.x (force reinstalled to avoid mixed ABI issues on Colab). We also pre-install `cmake` through `pip` to match the Docker workflow."
   ]
  },
  {
   "cell_type": "code",
   "execution_count": 2,
   "id": "806a99b9",
   "metadata": {
    "execution": {
     "iopub.execute_input": "2025-10-30T17:19:20.289168Z",
     "iopub.status.busy": "2025-10-30T17:19:20.288887Z",
     "iopub.status.idle": "2025-10-30T17:19:28.181880Z",
     "shell.execute_reply": "2025-10-30T17:19:28.179499Z"
    }
   },
   "outputs": [
    {
     "name": "stdout",
     "output_type": "stream",
     "text": [
      "Requirement already satisfied: pip in /root/.pyenv/versions/3.12.10/lib/python3.12/site-packages (25"
     ]
    },
    {
     "name": "stdout",
     "output_type": "stream",
     "text": [
      ".3)\n"
     ]
    },
    {
     "name": "stdout",
     "output_type": "stream",
     "text": [
      "Requirement already satisfied: setuptools in /root/.pyenv/versions/3.12.10/lib/python3.12/site-packa"
     ]
    },
    {
     "name": "stdout",
     "output_type": "stream",
     "text": [
      "ges (80.9.0)\n"
     ]
    },
    {
     "name": "stdout",
     "output_type": "stream",
     "text": [
      "Requirement already satisfied: wheel in /root/.pyenv/versions/3.12.10/lib/python3.12/site-packages ("
     ]
    },
    {
     "name": "stdout",
     "output_type": "stream",
     "text": [
      "0.45.1)\n"
     ]
    },
    {
     "name": "stdout",
     "output_type": "stream",
     "text": [
      "Requirement already satisfied: Cython>=3.0 in /root/.pyenv/versions/3.12.10/lib/python3.12/site-pack"
     ]
    },
    {
     "name": "stdout",
     "output_type": "stream",
     "text": [
      "ages (3.1.6)\n"
     ]
    },
    {
     "name": "stdout",
     "output_type": "stream",
     "text": [
      "Requirement already satisfied: cmake in /root/.pyenv/versions/3.12.10/lib/python3.12/site-packages ("
     ]
    },
    {
     "name": "stdout",
     "output_type": "stream",
     "text": [
      "4.1.2)\n"
     ]
    },
    {
     "name": "stderr",
     "output_type": "stream",
     "text": [
      "\u001b[33mWARNING: Running pip as the 'root' user can result in broken permissions and conflicting behavi"
     ]
    },
    {
     "name": "stderr",
     "output_type": "stream",
     "text": [
      "our with the system package manager, possibly rendering your system unusable. It is recommended to u"
     ]
    },
    {
     "name": "stderr",
     "output_type": "stream",
     "text": [
      "se a virtual environment instead: https://pip.pypa.io/warnings/venv. Use the --root-user-action opti"
     ]
    },
    {
     "name": "stderr",
     "output_type": "stream",
     "text": [
      "on if you know what you are doing and want to suppress this warning.\u001b[0m\u001b[33m\n",
      "\u001b[0m"
     ]
    },
    {
     "name": "stdout",
     "output_type": "stream",
     "text": [
      "Collecting numpy==1.26.4\n"
     ]
    },
    {
     "name": "stdout",
     "output_type": "stream",
     "text": [
      "  Using cached numpy-1.26.4-cp312-cp312-manylinux_2_17_x86_64.manylinux2014_x86_64.whl.metadata (61 "
     ]
    },
    {
     "name": "stdout",
     "output_type": "stream",
     "text": [
      "kB)\n"
     ]
    },
    {
     "name": "stdout",
     "output_type": "stream",
     "text": [
      "Using cached numpy-1.26.4-cp312-cp312-manylinux_2_17_x86_64.manylinux2014_x86_64.whl (18.0 MB)\n"
     ]
    },
    {
     "name": "stdout",
     "output_type": "stream",
     "text": [
      "Installing collected packages: numpy\n"
     ]
    },
    {
     "name": "stdout",
     "output_type": "stream",
     "text": [
      "  Attempting uninstall: numpy\n"
     ]
    },
    {
     "name": "stdout",
     "output_type": "stream",
     "text": [
      "    Found existing installation: numpy 2.3.4\n"
     ]
    },
    {
     "name": "stdout",
     "output_type": "stream",
     "text": [
      "    Uninstalling numpy-2.3.4:\n"
     ]
    },
    {
     "name": "stdout",
     "output_type": "stream",
     "text": [
      "      Successfully uninstalled numpy-2.3.4\n"
     ]
    },
    {
     "name": "stdout",
     "output_type": "stream",
     "text": [
      "Successfully installed numpy-1.26.4\n"
     ]
    },
    {
     "name": "stderr",
     "output_type": "stream",
     "text": [
      "\u001b[33mWARNING: Running pip as the 'root' user can result in broken permissions and conflicting behavi"
     ]
    },
    {
     "name": "stderr",
     "output_type": "stream",
     "text": [
      "our with the system package manager, possibly rendering your system unusable. It is recommended to u"
     ]
    },
    {
     "name": "stderr",
     "output_type": "stream",
     "text": [
      "se a virtual environment instead: https://pip.pypa.io/warnings/venv. Use the --root-user-action opti"
     ]
    },
    {
     "name": "stderr",
     "output_type": "stream",
     "text": [
      "on if you know what you are doing and want to suppress this warning.\u001b[0m\u001b[33m\n",
      "\u001b[0m"
     ]
    }
   ],
   "source": [
    "%%bash\n",
    "set -euo pipefail\n",
    "python3 -m pip install --upgrade pip setuptools wheel \"Cython>=3.0\" cmake\n",
    "python3 -m pip install --force-reinstall \"numpy==1.26.4\"\n"
   ]
  },
  {
   "cell_type": "markdown",
   "id": "51744462",
   "metadata": {},
   "source": [
    "## 3. Clone the required repositories\n",
    "\n",
    "We fetch both the main HypergraphPercol sources and the `cyminiball` dependency at the same revisions used by the Docker build."
   ]
  },
  {
   "cell_type": "code",
   "execution_count": 3,
   "id": "02326ca4",
   "metadata": {
    "execution": {
     "iopub.execute_input": "2025-10-30T17:19:28.185383Z",
     "iopub.status.busy": "2025-10-30T17:19:28.185075Z",
     "iopub.status.idle": "2025-10-30T17:19:28.956141Z",
     "shell.execute_reply": "2025-10-30T17:19:28.954691Z"
    }
   },
   "outputs": [
    {
     "name": "stdout",
     "output_type": "stream",
     "text": [
      "Already up to date.\n"
     ]
    },
    {
     "name": "stdout",
     "output_type": "stream",
     "text": [
      "Already up to date.\n"
     ]
    }
   ],
   "source": [
    "%%bash\n",
    "set -euo pipefail\n",
    "cd /content\n",
    "if [ -d HypergraphPercol ]; then\n",
    "    git -C HypergraphPercol pull --ff-only\n",
    "else\n",
    "    git clone https://github.com/Ludwig-H/HypergraphPercol.git\n",
    "fi\n",
    "if [ -d cyminiball ]; then\n",
    "    git -C cyminiball pull --ff-only\n",
    "else\n",
    "    git clone https://github.com/Ludwig-H/cyminiball.git\n",
    "fi\n"
   ]
  },
  {
   "cell_type": "markdown",
   "id": "8ab0687c",
   "metadata": {},
   "source": [
    "## 4. Build and install `cyminiball`\n",
    "\n",
    "The Docker image creates a wheel from source and installs it without build isolation. We mirror that approach so the same binary is present inside Colab."
   ]
  },
  {
   "cell_type": "code",
   "execution_count": 4,
   "id": "c3bf2234",
   "metadata": {
    "execution": {
     "iopub.execute_input": "2025-10-30T17:19:28.960249Z",
     "iopub.status.busy": "2025-10-30T17:19:28.959909Z",
     "iopub.status.idle": "2025-10-30T17:19:37.832498Z",
     "shell.execute_reply": "2025-10-30T17:19:37.829682Z"
    }
   },
   "outputs": [
    {
     "name": "stdout",
     "output_type": "stream",
     "text": [
      "Processing /content/cyminiball\n"
     ]
    },
    {
     "name": "stdout",
     "output_type": "stream",
     "text": [
      "  Preparing metadata (pyproject.toml): started\n"
     ]
    },
    {
     "name": "stdout",
     "output_type": "stream",
     "text": [
      "  Preparing metadata (pyproject.toml): finished with status 'done'\n"
     ]
    },
    {
     "name": "stdout",
     "output_type": "stream",
     "text": [
      "Collecting numpy>=1.0 (from cyminiball==2.1.1)\n"
     ]
    },
    {
     "name": "stdout",
     "output_type": "stream",
     "text": [
      "  File was already downloaded /content/wheels/numpy-2.3.4-cp312-cp312-manylinux_2_27_x86_64.manylinu"
     ]
    },
    {
     "name": "stdout",
     "output_type": "stream",
     "text": [
      "x_2_28_x86_64.whl\n"
     ]
    },
    {
     "name": "stdout",
     "output_type": "stream",
     "text": [
      "Building wheels for collected packages: cyminiball\n"
     ]
    },
    {
     "name": "stdout",
     "output_type": "stream",
     "text": [
      "  Building wheel for cyminiball (pyproject.toml): started\n"
     ]
    },
    {
     "name": "stdout",
     "output_type": "stream",
     "text": [
      "  Building wheel for cyminiball (pyproject.toml): finished with status 'done'\n"
     ]
    },
    {
     "name": "stdout",
     "output_type": "stream",
     "text": [
      "  Created wheel for cyminiball: filename=cyminiball-2.1.1-cp312-cp312-linux_x86_64.whl size=876168 s"
     ]
    },
    {
     "name": "stdout",
     "output_type": "stream",
     "text": [
      "ha256=4203a56e297ff06a6c9c5d27010c58d46f0d40e8c84fffa0dbc8b983646ca15d\n"
     ]
    },
    {
     "name": "stdout",
     "output_type": "stream",
     "text": [
      "  Stored in directory: /tmp/pip-ephem-wheel-cache-ik82ryni/wheels/54/ec/96/a7be7bb366d5f53158d4d263d"
     ]
    },
    {
     "name": "stdout",
     "output_type": "stream",
     "text": [
      "66c218ba6e09a61d61b006edf\n"
     ]
    },
    {
     "name": "stdout",
     "output_type": "stream",
     "text": [
      "Successfully built cyminiball\n"
     ]
    },
    {
     "name": "stdout",
     "output_type": "stream",
     "text": [
      "Looking in links: /content/wheels\n"
     ]
    },
    {
     "name": "stdout",
     "output_type": "stream",
     "text": [
      "Processing /content/wheels/cyminiball-2.1.1-cp312-cp312-linux_x86_64.whl\n"
     ]
    },
    {
     "name": "stdout",
     "output_type": "stream",
     "text": [
      "Processing /content/wheels/numpy-2.3.4-cp312-cp312-manylinux_2_27_x86_64.manylinux_2_28_x86_64.whl ("
     ]
    },
    {
     "name": "stdout",
     "output_type": "stream",
     "text": [
      "from cyminiball)\n"
     ]
    },
    {
     "name": "stdout",
     "output_type": "stream",
     "text": [
      "Installing collected packages: numpy, cyminiball\n",
      "\u001b[?25l"
     ]
    },
    {
     "name": "stdout",
     "output_type": "stream",
     "text": [
      "\r",
      "\u001b[2K  Attempting uninstall: numpy\n"
     ]
    },
    {
     "name": "stdout",
     "output_type": "stream",
     "text": [
      "\r",
      "\u001b[2K    Found existing installation: numpy 1.26.4\n"
     ]
    },
    {
     "name": "stdout",
     "output_type": "stream",
     "text": [
      "\r",
      "\u001b[2K    Uninstalling numpy-1.26.4:\n"
     ]
    },
    {
     "name": "stdout",
     "output_type": "stream",
     "text": [
      "\r",
      "\u001b[2K      Successfully uninstalled numpy-1.26.4\n"
     ]
    },
    {
     "name": "stdout",
     "output_type": "stream",
     "text": [
      "\r",
      "\u001b[2K   \u001b[90m━━━━━━━━━━━━━━━━━━━━━━━━━━━━━"
     ]
    },
    {
     "name": "stdout",
     "output_type": "stream",
     "text": [
      "━━━━━━━━━━━\u001b[0m \u001b[32m0/2\u001b[0m [numpy]"
     ]
    },
    {
     "name": "stdout",
     "output_type": "stream",
     "text": [
      "\r",
      "\u001b[2K   \u001b[90m━━━━━━━━━━━━━━━━━━━━━━━━━━━━━"
     ]
    },
    {
     "name": "stdout",
     "output_type": "stream",
     "text": [
      "━━━━━━━━━━━\u001b[0m \u001b[32m0/2\u001b[0m [numpy]"
     ]
    },
    {
     "name": "stdout",
     "output_type": "stream",
     "text": [
      "\r",
      "\u001b[2K   \u001b[90m━━━━━━━━━━━━━━━━━━━━━━━━━━━━━"
     ]
    },
    {
     "name": "stdout",
     "output_type": "stream",
     "text": [
      "━━━━━━━━━━━\u001b[0m \u001b[32m0/2\u001b[0m [numpy]"
     ]
    },
    {
     "name": "stdout",
     "output_type": "stream",
     "text": [
      "\r",
      "\u001b[2K   \u001b[90m━━━━━━━━━━━━━━━━━━━━━━━━━━━━━"
     ]
    },
    {
     "name": "stdout",
     "output_type": "stream",
     "text": [
      "━━━━━━━━━━━\u001b[0m \u001b[32m0/2\u001b[0m [numpy]"
     ]
    },
    {
     "name": "stdout",
     "output_type": "stream",
     "text": [
      "\r",
      "\u001b[2K   \u001b[90m━━━━━━━━━━━━━━━━━━━━━━━━━━━━━"
     ]
    },
    {
     "name": "stdout",
     "output_type": "stream",
     "text": [
      "━━━━━━━━━━━\u001b[0m \u001b[32m0/2\u001b[0m [numpy]"
     ]
    },
    {
     "name": "stdout",
     "output_type": "stream",
     "text": [
      "\r",
      "\u001b[2K   \u001b[90m━━━━━━━━━━━━━━━━━━━━━━━━━━━━━"
     ]
    },
    {
     "name": "stdout",
     "output_type": "stream",
     "text": [
      "━━━━━━━━━━━\u001b[0m \u001b[32m0/2\u001b[0m [numpy]"
     ]
    },
    {
     "name": "stdout",
     "output_type": "stream",
     "text": [
      "\r",
      "\u001b[2K   \u001b[90m━━━━━━━━━━━━━━━━━━━━━━━━━━━━━"
     ]
    },
    {
     "name": "stdout",
     "output_type": "stream",
     "text": [
      "━━━━━━━━━━━\u001b[0m \u001b[32m0/2\u001b[0m [numpy]"
     ]
    },
    {
     "name": "stdout",
     "output_type": "stream",
     "text": [
      "\r",
      "\u001b[2K   \u001b[90m━━━━━━━━━━━━━━━━━━━━━━━━━━━━━"
     ]
    },
    {
     "name": "stdout",
     "output_type": "stream",
     "text": [
      "━━━━━━━━━━━\u001b[0m \u001b[32m0/2\u001b[0m [numpy]"
     ]
    },
    {
     "name": "stdout",
     "output_type": "stream",
     "text": [
      "\r",
      "\u001b[2K   \u001b[90m━━━━━━━━━━━━━━━━━━━━━━━━━━━━━"
     ]
    },
    {
     "name": "stdout",
     "output_type": "stream",
     "text": [
      "━━━━━━━━━━━\u001b[0m \u001b[32m0/2\u001b[0m [numpy]"
     ]
    },
    {
     "name": "stdout",
     "output_type": "stream",
     "text": [
      "\r",
      "\u001b[2K   \u001b[90m━━━━━━━━━━━━━━━━━━━━━━━━━━━━━"
     ]
    },
    {
     "name": "stdout",
     "output_type": "stream",
     "text": [
      "━━━━━━━━━━━\u001b[0m \u001b[32m0/2\u001b[0m [numpy]"
     ]
    },
    {
     "name": "stdout",
     "output_type": "stream",
     "text": [
      "\r",
      "\u001b[2K   \u001b[90m━━━━━━━━━━━━━━━━━━━━━━━━━━━━━"
     ]
    },
    {
     "name": "stdout",
     "output_type": "stream",
     "text": [
      "━━━━━━━━━━━\u001b[0m \u001b[32m0/2\u001b[0m [numpy]"
     ]
    },
    {
     "name": "stdout",
     "output_type": "stream",
     "text": [
      "\r",
      "\u001b[2K   \u001b[90m━━━━━━━━━━━━━━━━━━━━━━━━━━━━━"
     ]
    },
    {
     "name": "stdout",
     "output_type": "stream",
     "text": [
      "━━━━━━━━━━━\u001b[0m \u001b[32m0/2\u001b[0m [numpy]"
     ]
    },
    {
     "name": "stdout",
     "output_type": "stream",
     "text": [
      "\r",
      "\u001b[2K   \u001b[90m━━━━━━━━━━━━━━━━━━━━━━━━━━━━━"
     ]
    },
    {
     "name": "stdout",
     "output_type": "stream",
     "text": [
      "━━━━━━━━━━━\u001b[0m \u001b[32m0/2\u001b[0m [numpy]"
     ]
    },
    {
     "name": "stdout",
     "output_type": "stream",
     "text": [
      "\r",
      "\u001b[2K   \u001b[90m━━━━━━━━━━━━━━━━━━━━━━━━━━━━━"
     ]
    },
    {
     "name": "stdout",
     "output_type": "stream",
     "text": [
      "━━━━━━━━━━━\u001b[0m \u001b[32m0/2\u001b[0m [numpy]"
     ]
    },
    {
     "name": "stdout",
     "output_type": "stream",
     "text": [
      "\r",
      "\u001b[2K   \u001b[90m━━━━━━━━━━━━━━━━━━━━━━━━━━━━━"
     ]
    },
    {
     "name": "stdout",
     "output_type": "stream",
     "text": [
      "━━━━━━━━━━━\u001b[0m \u001b[32m0/2\u001b[0m [numpy]"
     ]
    },
    {
     "name": "stdout",
     "output_type": "stream",
     "text": [
      "\r",
      "\u001b[2K   \u001b[90m━━━━━━━━━━━━━━━━━━━━━━━━━━━━━"
     ]
    },
    {
     "name": "stdout",
     "output_type": "stream",
     "text": [
      "━━━━━━━━━━━\u001b[0m \u001b[32m0/2\u001b[0m [numpy]"
     ]
    },
    {
     "name": "stdout",
     "output_type": "stream",
     "text": [
      "\r",
      "\u001b[2K   \u001b[90m━━━━━━━━━━━━━━━━━━━━━━━━━━━━━"
     ]
    },
    {
     "name": "stdout",
     "output_type": "stream",
     "text": [
      "━━━━━━━━━━━\u001b[0m \u001b[32m0/2\u001b[0m [numpy]"
     ]
    },
    {
     "name": "stdout",
     "output_type": "stream",
     "text": [
      "\r",
      "\u001b[2K   \u001b[90m━━━━━━━━━━━━━━━━━━━━━━━━━━━━━"
     ]
    },
    {
     "name": "stdout",
     "output_type": "stream",
     "text": [
      "━━━━━━━━━━━\u001b[0m \u001b[32m0/2\u001b[0m [numpy]"
     ]
    },
    {
     "name": "stdout",
     "output_type": "stream",
     "text": [
      "\r",
      "\u001b[2K  Attempting uninstall: cyminiball\n",
      "   \u001b[90m━━━━━━━━━━━━━━━━━"
     ]
    },
    {
     "name": "stdout",
     "output_type": "stream",
     "text": [
      "━━━━━━━━━━━━━━━━━━━━━━━\u001b[0m \u001b[32m0/2\u001b[0m [numpy]"
     ]
    },
    {
     "name": "stdout",
     "output_type": "stream",
     "text": [
      "\r",
      "\u001b[2K    Found existing installation: cyminiball 2.1.1\n",
      "   \u001b[90m━━━━━━━━━━━━"
     ]
    },
    {
     "name": "stdout",
     "output_type": "stream",
     "text": [
      "━━━━━━━━━━━━━━━━━━━━━━━━━━━━\u001b[0m \u001b[32m0/2\u001b[0m"
     ]
    },
    {
     "name": "stdout",
     "output_type": "stream",
     "text": [
      " [numpy]"
     ]
    },
    {
     "name": "stdout",
     "output_type": "stream",
     "text": [
      "\r",
      "\u001b[2K    Uninstalling cyminiball-2.1.1:\n",
      "   \u001b[90m━━━━━━━━━━━━━━━━━"
     ]
    },
    {
     "name": "stdout",
     "output_type": "stream",
     "text": [
      "━━━━━━━━━━━━━━━━━━━━━━━\u001b[0m \u001b[32m0/2\u001b[0m [numpy]"
     ]
    },
    {
     "name": "stdout",
     "output_type": "stream",
     "text": [
      "\r",
      "\u001b[2K      Successfully uninstalled cyminiball-2.1.1\n",
      "   \u001b[90m━━━━━━━━━━━━━"
     ]
    },
    {
     "name": "stdout",
     "output_type": "stream",
     "text": [
      "━━━━━━━━━━━━━━━━━━━━━━━━━━━\u001b[0m \u001b[32m0/2\u001b[0m ["
     ]
    },
    {
     "name": "stdout",
     "output_type": "stream",
     "text": [
      "numpy]"
     ]
    },
    {
     "name": "stdout",
     "output_type": "stream",
     "text": [
      "\r",
      "\u001b[2K   \u001b[90m━━━━━━━━━━━━━━━━━━━━━━━━━━━━━"
     ]
    },
    {
     "name": "stdout",
     "output_type": "stream",
     "text": [
      "━━━━━━━━━━━\u001b[0m \u001b[32m2/2\u001b[0m [cyminiball]\n",
      "\u001b[?25h\r",
      "\u001b[1A\u001b[2K"
     ]
    },
    {
     "name": "stdout",
     "output_type": "stream",
     "text": [
      "Successfully installed cyminiball-2.1.1 numpy-2.3.4\n"
     ]
    },
    {
     "name": "stderr",
     "output_type": "stream",
     "text": [
      "\u001b[33mWARNING: Running pip as the 'root' user can result in broken permissions and conflicting behavi"
     ]
    },
    {
     "name": "stderr",
     "output_type": "stream",
     "text": [
      "our with the system package manager, possibly rendering your system unusable. It is recommended to u"
     ]
    },
    {
     "name": "stderr",
     "output_type": "stream",
     "text": [
      "se a virtual environment instead: https://pip.pypa.io/warnings/venv. Use the --root-user-action opti"
     ]
    },
    {
     "name": "stderr",
     "output_type": "stream",
     "text": [
      "on if you know what you are doing and want to suppress this warning.\u001b[0m\u001b[33m\n",
      "\u001b[0m"
     ]
    }
   ],
   "source": [
    "%%bash\n",
    "set -euo pipefail\n",
    "mkdir -p /content/wheels\n",
    "cd /content/cyminiball\n",
    "python3 -m pip wheel --no-build-isolation --wheel-dir=/content/wheels .\n",
    "python3 -m pip install --force-reinstall --no-index --find-links=/content/wheels cyminiball\n"
   ]
  },
  {
   "cell_type": "markdown",
   "id": "92e29c47",
   "metadata": {},
   "source": [
    "## 5. Download the CGAL helper projects\n",
    "\n",
    "The helper script clones the six CGAL-based executables required by HypergraphPercol."
   ]
  },
  {
   "cell_type": "code",
   "execution_count": 5,
   "id": "245a8645",
   "metadata": {
    "execution": {
     "iopub.execute_input": "2025-10-30T17:19:37.836306Z",
     "iopub.status.busy": "2025-10-30T17:19:37.835652Z",
     "iopub.status.idle": "2025-10-30T17:19:37.943661Z",
     "shell.execute_reply": "2025-10-30T17:19:37.942072Z"
    }
   },
   "outputs": [
    {
     "name": "stdout",
     "output_type": "stream",
     "text": [
      "[skip] EdgesCGALWeightedDelaunay3D already exists\n",
      "[skip] EdgesCGALWeightedDelaunay2D already exists\n"
     ]
    },
    {
     "name": "stdout",
     "output_type": "stream",
     "text": [
      "[skip] EdgesCGALWeightedDelaunayND already exists\n",
      "[skip] EdgesCGALDelaunay3D already exists\n",
      "[skip] E"
     ]
    },
    {
     "name": "stdout",
     "output_type": "stream",
     "text": [
      "dgesCGALDelaunay2D already exists\n",
      "[skip] EdgesCGALDelaunayND already exists\n"
     ]
    }
   ],
   "source": [
    "%%bash\n",
    "set -euo pipefail\n",
    "cd /content/HypergraphPercol\n",
    "python3 scripts/setup_cgal.py\n"
   ]
  },
  {
   "cell_type": "markdown",
   "id": "54d06acf",
   "metadata": {},
   "source": [
    "## 6. Patch (if necessary) and compile the CGAL executables\n",
    "\n",
    "The 3D helpers require an explicit pthread linkage, just like in the Dockerfile. Each project is then configured and built in Release mode."
   ]
  },
  {
   "cell_type": "code",
   "execution_count": 6,
   "id": "cbede11e",
   "metadata": {
    "execution": {
     "iopub.execute_input": "2025-10-30T17:19:37.947183Z",
     "iopub.status.busy": "2025-10-30T17:19:37.946762Z",
     "iopub.status.idle": "2025-10-30T17:19:43.692536Z",
     "shell.execute_reply": "2025-10-30T17:19:43.690444Z"
    }
   },
   "outputs": [
    {
     "name": "stdout",
     "output_type": "stream",
     "text": [
      "-- Using header-only CGAL\n"
     ]
    },
    {
     "name": "stdout",
     "output_type": "stream",
     "text": [
      "-- Targeting Unix Makefiles\n",
      "-- Using /usr/bin/c++ compiler.\n"
     ]
    },
    {
     "name": "stderr",
     "output_type": "stream",
     "text": [
      "\u001b[33mCMake Warning (dev) at /usr/lib/x86_64-linux-gnu/cmake/CGAL/CGAL_SetupBoost.cmake:20 (find_pack"
     ]
    },
    {
     "name": "stderr",
     "output_type": "stream",
     "text": [
      "age):\n",
      "  Policy CMP0167 is not set: The FindBoost module is removed.  Run \"cmake\n",
      "  --help-policy CMP0"
     ]
    },
    {
     "name": "stderr",
     "output_type": "stream",
     "text": [
      "167\" for policy details.  Use the cmake_policy command to\n",
      "  set the policy and suppress this warning"
     ]
    },
    {
     "name": "stderr",
     "output_type": "stream",
     "text": [
      ".\n",
      "\n",
      "Call Stack (most recent call first):\n",
      "  /usr/lib/x86_64-linux-gnu/cmake/CGAL/CGAL_SetupCGALDepende"
     ]
    },
    {
     "name": "stderr",
     "output_type": "stream",
     "text": [
      "ncies.cmake:48 (include)\n",
      "  /usr/lib/x86_64-linux-gnu/cmake/CGAL/CGALConfig.cmake:168 (include)\n",
      "  CMa"
     ]
    },
    {
     "name": "stderr",
     "output_type": "stream",
     "text": [
      "keLists.txt:6 (find_package)\n",
      "This warning is for project developers.  Use -Wno-dev to suppress it.\n",
      "\u001b"
     ]
    },
    {
     "name": "stderr",
     "output_type": "stream",
     "text": [
      "[0m\n"
     ]
    },
    {
     "name": "stdout",
     "output_type": "stream",
     "text": [
      "-- Boost include dirs: /usr/include\n",
      "-- Boost libraries:    \n"
     ]
    },
    {
     "name": "stdout",
     "output_type": "stream",
     "text": [
      "-- Using gcc version 4 or later. Adding -frounding-math\n",
      "-- Configuring done (0.0s)\n"
     ]
    },
    {
     "name": "stdout",
     "output_type": "stream",
     "text": [
      "-- Generating done (0.0s)\n"
     ]
    },
    {
     "name": "stdout",
     "output_type": "stream",
     "text": [
      "-- Build files have been written to: /content/HypergraphPercol/CGALDelaunay/EdgesCGALDelaunay2D/buil"
     ]
    },
    {
     "name": "stdout",
     "output_type": "stream",
     "text": [
      "d\n"
     ]
    },
    {
     "name": "stdout",
     "output_type": "stream",
     "text": [
      "[100%] Built target EdgesCGALDelaunay2D\n"
     ]
    },
    {
     "name": "stdout",
     "output_type": "stream",
     "text": [
      "-- Using header-only CGAL\n"
     ]
    },
    {
     "name": "stdout",
     "output_type": "stream",
     "text": [
      "-- Targeting Unix Makefiles\n",
      "-- Using /usr/bin/c++ compiler.\n"
     ]
    },
    {
     "name": "stderr",
     "output_type": "stream",
     "text": [
      "\u001b[33mCMake Warning (dev) at /usr/lib/x86_64-linux-gnu/cmake/CGAL/CGAL_SetupBoost.cmake:20 (find_pack"
     ]
    },
    {
     "name": "stderr",
     "output_type": "stream",
     "text": [
      "age):\n",
      "  Policy CMP0167 is not set: The FindBoost module is removed.  Run \"cmake\n",
      "  --help-policy CMP0"
     ]
    },
    {
     "name": "stderr",
     "output_type": "stream",
     "text": [
      "167\" for policy details.  Use the cmake_policy command to\n",
      "  set the policy and suppress this warning"
     ]
    },
    {
     "name": "stderr",
     "output_type": "stream",
     "text": [
      ".\n",
      "\n",
      "Call Stack (most recent call first):\n",
      "  /usr/lib/x86_64-linux-gnu/cmake/CGAL/CGAL_SetupCGALDepende"
     ]
    },
    {
     "name": "stderr",
     "output_type": "stream",
     "text": [
      "ncies.cmake:48 (include)\n",
      "  /usr/lib/x86_64-linux-gnu/cmake/CGAL/CGALConfig.cmake:168 (include)\n",
      "  CMa"
     ]
    },
    {
     "name": "stderr",
     "output_type": "stream",
     "text": [
      "keLists.txt:14 (find_package)\n",
      "This warning is for project developers.  Use -Wno-dev to suppress it.\n"
     ]
    },
    {
     "name": "stderr",
     "output_type": "stream",
     "text": [
      "\u001b[0m\n"
     ]
    },
    {
     "name": "stdout",
     "output_type": "stream",
     "text": [
      "-- Boost include dirs: /usr/include\n",
      "-- Boost libraries:    \n"
     ]
    },
    {
     "name": "stdout",
     "output_type": "stream",
     "text": [
      "-- Using gcc version 4 or later. Adding -frounding-math\n"
     ]
    },
    {
     "name": "stdout",
     "output_type": "stream",
     "text": [
      "-- Configuring done (0.0s)\n"
     ]
    },
    {
     "name": "stdout",
     "output_type": "stream",
     "text": [
      "-- Generating done (0.0s)\n"
     ]
    },
    {
     "name": "stdout",
     "output_type": "stream",
     "text": [
      "-- Build files have been written to: /content/HypergraphPercol/CGALDelaunay/EdgesCGALDelaunay3D/buil"
     ]
    },
    {
     "name": "stdout",
     "output_type": "stream",
     "text": [
      "d\n"
     ]
    },
    {
     "name": "stdout",
     "output_type": "stream",
     "text": [
      "[100%] Built target EdgesCGALDelaunay3D\n"
     ]
    },
    {
     "name": "stdout",
     "output_type": "stream",
     "text": [
      "-- Using header-only CGAL\n"
     ]
    },
    {
     "name": "stdout",
     "output_type": "stream",
     "text": [
      "-- Targeting Unix Makefiles\n"
     ]
    },
    {
     "name": "stdout",
     "output_type": "stream",
     "text": [
      "-- Using /usr/bin/c++ compiler.\n"
     ]
    },
    {
     "name": "stderr",
     "output_type": "stream",
     "text": [
      "\u001b[33m"
     ]
    },
    {
     "name": "stderr",
     "output_type": "stream",
     "text": [
      "CMake Warning (dev) at /usr/lib/x86_64-linux-gnu/cmake/CGAL/CGAL_SetupBoost.cmake:20 (find_package):"
     ]
    },
    {
     "name": "stderr",
     "output_type": "stream",
     "text": [
      "\n",
      "  Policy CMP0167 is not set: The FindBoost module is removed.  Run \"cmake\n",
      "  --help-policy CMP0167\" "
     ]
    },
    {
     "name": "stderr",
     "output_type": "stream",
     "text": [
      "for policy details.  Use the cmake_policy command to\n",
      "  set the policy and suppress this warning.\n",
      "\n",
      "Ca"
     ]
    },
    {
     "name": "stderr",
     "output_type": "stream",
     "text": [
      "ll Stack (most recent call first):\n",
      "  /usr/lib/x86_64-linux-gnu/cmake/CGAL/CGAL_SetupCGALDependencies"
     ]
    },
    {
     "name": "stderr",
     "output_type": "stream",
     "text": [
      ".cmake:48 (include)\n",
      "  /usr/lib/x86_64-linux-gnu/cmake/CGAL/CGALConfig.cmake:168 (include)\n",
      "  CMakeLis"
     ]
    },
    {
     "name": "stderr",
     "output_type": "stream",
     "text": [
      "ts.txt:12 (find_package)\n",
      "This warning is for project developers.  Use -Wno-dev to suppress it.\n",
      "\u001b[0m\n"
     ]
    },
    {
     "name": "stdout",
     "output_type": "stream",
     "text": [
      "-- Boost include dirs: /usr/include\n",
      "-- Boost libraries:    \n"
     ]
    },
    {
     "name": "stdout",
     "output_type": "stream",
     "text": [
      "-- Using gcc version 4 or later. Adding -frounding-math\n"
     ]
    },
    {
     "name": "stdout",
     "output_type": "stream",
     "text": [
      "-- TBB found: enabling 3D parallel fast-path\n"
     ]
    },
    {
     "name": "stdout",
     "output_type": "stream",
     "text": [
      "-- Configuring done (0.0s)\n"
     ]
    },
    {
     "name": "stdout",
     "output_type": "stream",
     "text": [
      "-- Generating done (0.0s)\n"
     ]
    },
    {
     "name": "stdout",
     "output_type": "stream",
     "text": [
      "-- Build files have been written to: /content/HypergraphPercol/CGALDelaunay/EdgesCGALDelaunayND/buil"
     ]
    },
    {
     "name": "stdout",
     "output_type": "stream",
     "text": [
      "d\n"
     ]
    },
    {
     "name": "stdout",
     "output_type": "stream",
     "text": [
      "[100%] Built target EdgesCGALDelaunayND\n"
     ]
    },
    {
     "name": "stdout",
     "output_type": "stream",
     "text": [
      "-- Using header-only CGAL\n"
     ]
    },
    {
     "name": "stdout",
     "output_type": "stream",
     "text": [
      "-- Targeting Unix Makefiles\n",
      "-- Using /usr/bin/c++ compiler.\n"
     ]
    },
    {
     "name": "stderr",
     "output_type": "stream",
     "text": [
      "\u001b[33m"
     ]
    },
    {
     "name": "stderr",
     "output_type": "stream",
     "text": [
      "CMake Warning (dev) at /usr/lib/x86_64-linux-gnu/cmake/CGAL/CGAL_SetupBoost.cmake:20 (find_package):"
     ]
    },
    {
     "name": "stderr",
     "output_type": "stream",
     "text": [
      "\n",
      "  Policy CMP0167 is not set: The FindBoost module is removed.  Run \"cmake\n",
      "  --help-policy CMP0167\" "
     ]
    },
    {
     "name": "stderr",
     "output_type": "stream",
     "text": [
      "for policy details.  Use the cmake_policy command to\n",
      "  set the policy and suppress this warning.\n",
      "\n",
      "Ca"
     ]
    },
    {
     "name": "stderr",
     "output_type": "stream",
     "text": [
      "ll Stack (most recent call first):\n",
      "  /usr/lib/x86_64-linux-gnu/cmake/CGAL/CGAL_SetupCGALDependencies"
     ]
    },
    {
     "name": "stderr",
     "output_type": "stream",
     "text": [
      ".cmake:48 (include)\n",
      "  /usr/lib/x86_64-linux-gnu/cmake/CGAL/CGALConfig.cmake:168 (include)\n",
      "  CMakeLis"
     ]
    },
    {
     "name": "stderr",
     "output_type": "stream",
     "text": [
      "ts.txt:6 (find_package)\n",
      "This warning is for project developers.  Use -Wno-dev to suppress it.\n",
      "\u001b[0m\n"
     ]
    },
    {
     "name": "stdout",
     "output_type": "stream",
     "text": [
      "-- Boost include dirs: /usr/include\n",
      "-- Boost libraries:    \n"
     ]
    },
    {
     "name": "stdout",
     "output_type": "stream",
     "text": [
      "-- Using gcc version 4 or later. Adding -frounding-math\n"
     ]
    },
    {
     "name": "stdout",
     "output_type": "stream",
     "text": [
      "-- Configuring done (0.0s)\n"
     ]
    },
    {
     "name": "stdout",
     "output_type": "stream",
     "text": [
      "-- Generating done (0.0s)\n"
     ]
    },
    {
     "name": "stdout",
     "output_type": "stream",
     "text": [
      "-- Build files have been written to: /content/HypergraphPercol/CGALDelaunay/EdgesCGALWeightedDelauna"
     ]
    },
    {
     "name": "stdout",
     "output_type": "stream",
     "text": [
      "y2D/build\n"
     ]
    },
    {
     "name": "stdout",
     "output_type": "stream",
     "text": [
      "[100%] Built target EdgesCGALWeightedDelaunay2D\n"
     ]
    },
    {
     "name": "stdout",
     "output_type": "stream",
     "text": [
      "-- Using header-only CGAL\n"
     ]
    },
    {
     "name": "stdout",
     "output_type": "stream",
     "text": [
      "-- Targeting Unix Makefiles\n",
      "-- Using /usr/bin/c++ compiler.\n"
     ]
    },
    {
     "name": "stderr",
     "output_type": "stream",
     "text": [
      "\u001b[33mCMake Warning (dev) at /usr/lib/x86_64-linux-gnu/cmake/CGAL/CGAL_SetupBoost.cmake:20 (find_pack"
     ]
    },
    {
     "name": "stderr",
     "output_type": "stream",
     "text": [
      "age):\n",
      "  Policy CMP0167 is not set: The FindBoost module is removed.  Run \"cmake\n",
      "  --help-policy CMP0"
     ]
    },
    {
     "name": "stderr",
     "output_type": "stream",
     "text": [
      "167\" for policy details.  Use the cmake_policy command to\n",
      "  set the policy and suppress this warning"
     ]
    },
    {
     "name": "stderr",
     "output_type": "stream",
     "text": [
      ".\n",
      "\n",
      "Call Stack (most recent call first):\n",
      "  /usr/lib/x86_64-linux-gnu/cmake/CGAL/CGAL_SetupCGALDepende"
     ]
    },
    {
     "name": "stderr",
     "output_type": "stream",
     "text": [
      "ncies.cmake:48 (include)\n",
      "  /usr/lib/x86_64-linux-gnu/cmake/CGAL/CGALConfig.cmake:168 (include)\n",
      "  CMa"
     ]
    },
    {
     "name": "stderr",
     "output_type": "stream",
     "text": [
      "keLists.txt:15 (find_package)\n",
      "This warning is for project developers.  Use -Wno-dev to suppress it.\n"
     ]
    },
    {
     "name": "stderr",
     "output_type": "stream",
     "text": [
      "\u001b[0m\n"
     ]
    },
    {
     "name": "stdout",
     "output_type": "stream",
     "text": [
      "-- Boost include dirs: /usr/include\n",
      "-- Boost libraries:    \n"
     ]
    },
    {
     "name": "stdout",
     "output_type": "stream",
     "text": [
      "-- Using gcc version 4 or later. Adding -frounding-math\n"
     ]
    },
    {
     "name": "stdout",
     "output_type": "stream",
     "text": [
      "-- Configuring done (0.0s)\n"
     ]
    },
    {
     "name": "stdout",
     "output_type": "stream",
     "text": [
      "-- Generating done (0.0s)\n"
     ]
    },
    {
     "name": "stdout",
     "output_type": "stream",
     "text": [
      "-- Build files have been written to: /content/HypergraphPercol/CGALDelaunay/EdgesCGALWeightedDelauna"
     ]
    },
    {
     "name": "stdout",
     "output_type": "stream",
     "text": [
      "y3D/build\n"
     ]
    },
    {
     "name": "stdout",
     "output_type": "stream",
     "text": [
      "[100%] Built target EdgesCGALWeightedDelaunay3D\n"
     ]
    },
    {
     "name": "stdout",
     "output_type": "stream",
     "text": [
      "-- Using header-only CGAL\n"
     ]
    },
    {
     "name": "stdout",
     "output_type": "stream",
     "text": [
      "-- Targeting Unix Makefiles\n",
      "-- Using /usr/bin/c++ compiler.\n"
     ]
    },
    {
     "name": "stderr",
     "output_type": "stream",
     "text": [
      "\u001b[33m"
     ]
    },
    {
     "name": "stderr",
     "output_type": "stream",
     "text": [
      "CMake Warning (dev) at /usr/lib/x86_64-linux-gnu/cmake/CGAL/CGAL_SetupBoost.cmake:20 (find_package):"
     ]
    },
    {
     "name": "stderr",
     "output_type": "stream",
     "text": [
      "\n",
      "  Policy CMP0167 is not set: The FindBoost module is removed.  Run \"cmake\n",
      "  --help-policy CMP0167\" "
     ]
    },
    {
     "name": "stderr",
     "output_type": "stream",
     "text": [
      "for policy details.  Use the cmake_policy command to\n",
      "  set the policy and suppress this warning.\n",
      "\n",
      "Ca"
     ]
    },
    {
     "name": "stderr",
     "output_type": "stream",
     "text": [
      "ll Stack (most recent call first):\n",
      "  /usr/lib/x86_64-linux-gnu/cmake/CGAL/CGAL_SetupCGALDependencies"
     ]
    },
    {
     "name": "stderr",
     "output_type": "stream",
     "text": [
      ".cmake:48 (include)\n",
      "  /usr/lib/x86_64-linux-gnu/cmake/CGAL/CGALConfig.cmake:168 (include)\n",
      "  CMakeLis"
     ]
    },
    {
     "name": "stderr",
     "output_type": "stream",
     "text": [
      "ts.txt:7 (find_package)\n",
      "This warning is for project developers.  Use -Wno-dev to suppress it.\n",
      "\u001b[0m\n"
     ]
    },
    {
     "name": "stdout",
     "output_type": "stream",
     "text": [
      "-- Boost include dirs: /usr/include\n",
      "-- Boost libraries:    \n",
      "-- Using gcc version 4 or later. Adding "
     ]
    },
    {
     "name": "stdout",
     "output_type": "stream",
     "text": [
      "-frounding-math\n"
     ]
    },
    {
     "name": "stdout",
     "output_type": "stream",
     "text": [
      "-- Configuring done (0.1s)\n"
     ]
    },
    {
     "name": "stdout",
     "output_type": "stream",
     "text": [
      "-- Generating done (0.0s)\n"
     ]
    },
    {
     "name": "stdout",
     "output_type": "stream",
     "text": [
      "-- Build files have been written to: /content/HypergraphPercol/CGALDelaunay/EdgesCGALWeightedDelauna"
     ]
    },
    {
     "name": "stdout",
     "output_type": "stream",
     "text": [
      "yND/build\n"
     ]
    },
    {
     "name": "stdout",
     "output_type": "stream",
     "text": [
      "[100%] Built target EdgesCGALWeightedDelaunayND\n"
     ]
    }
   ],
   "source": [
    "%%bash\n",
    "set -euo pipefail\n",
    "cd /content/HypergraphPercol/CGALDelaunay\n",
    "\n",
    "projects=(\n",
    "    EdgesCGALDelaunay2D\n",
    "    EdgesCGALDelaunay3D\n",
    "    EdgesCGALDelaunayND\n",
    "    EdgesCGALWeightedDelaunay2D\n",
    "    EdgesCGALWeightedDelaunay3D\n",
    "    EdgesCGALWeightedDelaunayND\n",
    ")\n",
    "\n",
    "for project in \"${projects[@]}\"; do\n",
    "    cmakelists=\"$project/CMakeLists.txt\"\n",
    "    if [ \"$project\" = \"EdgesCGALDelaunay3D\" ]; then\n",
    "        if ! grep -q 'target_link_libraries(EdgesCGALDelaunay3D PRIVATE pthread)' \"$cmakelists\"; then\n",
    "            sed -i '/^add_executable(EdgesCGALDelaunay3D/a target_link_libraries(EdgesCGALDelaunay3D PRIVATE pthread)' \"$cmakelists\"\n",
    "        fi\n",
    "    elif [ \"$project\" = \"EdgesCGALWeightedDelaunay3D\" ]; then\n",
    "        if ! grep -q 'target_link_libraries(EdgesCGALWeightedDelaunay3D PRIVATE pthread)' \"$cmakelists\"; then\n",
    "            sed -i '/^add_executable(EdgesCGALWeightedDelaunay3D/a target_link_libraries(EdgesCGALWeightedDelaunay3D PRIVATE pthread)' \"$cmakelists\"\n",
    "        fi\n",
    "    fi\n",
    "    cmake -S \"$project\" -B \"$project/build\" -DCMAKE_BUILD_TYPE=Release\n",
    "    cmake --build \"$project/build\" -j\"$(nproc)\"\n",
    "done\n"
   ]
  },
  {
   "cell_type": "markdown",
   "id": "526be758",
   "metadata": {},
   "source": [
    "## 7. Install Python runtime dependencies\n",
    "\n",
    "HypergraphPercol depends on scientific Python packages such as scikit-learn, HDBSCAN and GUDHI. Installing them upfront ensures that the later `pip install` step can reuse the locally built `cyminiball` wheel without attempting to rebuild it. Some of these wheels may opportunistically upgrade NumPy, so we immediately reinstall 1.26.4 afterwards to keep the ABI aligned with the compiled extensions."
   ]
  },
  {
   "cell_type": "code",
   "execution_count": 7,
   "id": "7a31a665",
   "metadata": {
    "execution": {
     "iopub.execute_input": "2025-10-30T17:19:43.696525Z",
     "iopub.status.busy": "2025-10-30T17:19:43.695943Z",
     "iopub.status.idle": "2025-10-30T17:19:52.410472Z",
     "shell.execute_reply": "2025-10-30T17:19:52.409753Z"
    }
   },
   "outputs": [
    {
     "name": "stdout",
     "output_type": "stream",
     "text": [
      "Requirement already satisfied: scikit-learn in /root/.pyenv/versions/3.12.10/lib/python3.12/site-pac"
     ]
    },
    {
     "name": "stdout",
     "output_type": "stream",
     "text": [
      "kages (1.7.2)\n"
     ]
    },
    {
     "name": "stdout",
     "output_type": "stream",
     "text": [
      "Requirement already satisfied: hdbscan in /root/.pyenv/versions/3.12.10/lib/python3.12/site-packages"
     ]
    },
    {
     "name": "stdout",
     "output_type": "stream",
     "text": [
      " (0.8.40)\n"
     ]
    },
    {
     "name": "stdout",
     "output_type": "stream",
     "text": [
      "Requirement already satisfied: gudhi in /root/.pyenv/versions/3.12.10/lib/python3.12/site-packages ("
     ]
    },
    {
     "name": "stdout",
     "output_type": "stream",
     "text": [
      "3.11.0)\n"
     ]
    },
    {
     "name": "stdout",
     "output_type": "stream",
     "text": [
      "Requirement already satisfied: joblib in /root/.pyenv/versions/3.12.10/lib/python3.12/site-packages "
     ]
    },
    {
     "name": "stdout",
     "output_type": "stream",
     "text": [
      "(1.5.2)\n"
     ]
    },
    {
     "name": "stdout",
     "output_type": "stream",
     "text": [
      "Requirement already satisfied: threadpoolctl in /root/.pyenv/versions/3.12.10/lib/python3.12/site-pa"
     ]
    },
    {
     "name": "stdout",
     "output_type": "stream",
     "text": [
      "ckages (3.6.0)\n"
     ]
    },
    {
     "name": "stdout",
     "output_type": "stream",
     "text": [
      "Requirement already satisfied: numpy>=1.22.0 in /root/.pyenv/versions/3.12.10/lib/python3.12/site-pa"
     ]
    },
    {
     "name": "stdout",
     "output_type": "stream",
     "text": [
      "ckages (from scikit-learn) (2.3.4)\n"
     ]
    },
    {
     "name": "stdout",
     "output_type": "stream",
     "text": [
      "Requirement already satisfied: scipy>=1.8.0 in /root/.pyenv/versions/3.12.10/lib/python3.12/site-pac"
     ]
    },
    {
     "name": "stdout",
     "output_type": "stream",
     "text": [
      "kages (from scikit-learn) (1.16.3)\n"
     ]
    },
    {
     "name": "stderr",
     "output_type": "stream",
     "text": [
      "\u001b[33mWARNING: Running pip as the 'root' user can result in broken permissions and conflicting behavi"
     ]
    },
    {
     "name": "stderr",
     "output_type": "stream",
     "text": [
      "our with the system package manager, possibly rendering your system unusable. It is recommended to u"
     ]
    },
    {
     "name": "stderr",
     "output_type": "stream",
     "text": [
      "se a virtual environment instead: https://pip.pypa.io/warnings/venv. Use the --root-user-action opti"
     ]
    },
    {
     "name": "stderr",
     "output_type": "stream",
     "text": [
      "on if you know what you are doing and want to suppress this warning.\u001b[0m\u001b[33m\n",
      "\u001b[0m"
     ]
    },
    {
     "name": "stdout",
     "output_type": "stream",
     "text": [
      "Collecting numpy==1.26.4\n"
     ]
    },
    {
     "name": "stdout",
     "output_type": "stream",
     "text": [
      "  Using cached numpy-1.26.4-cp312-cp312-manylinux_2_17_x86_64.manylinux2014_x86_64.whl.metadata (61 "
     ]
    },
    {
     "name": "stdout",
     "output_type": "stream",
     "text": [
      "kB)\n"
     ]
    },
    {
     "name": "stdout",
     "output_type": "stream",
     "text": [
      "Using cached numpy-1.26.4-cp312-cp312-manylinux_2_17_x86_64.manylinux2014_x86_64.whl (18.0 MB)\n"
     ]
    },
    {
     "name": "stdout",
     "output_type": "stream",
     "text": [
      "Installing collected packages: numpy\n"
     ]
    },
    {
     "name": "stdout",
     "output_type": "stream",
     "text": [
      "  Attempting uninstall: numpy\n"
     ]
    },
    {
     "name": "stdout",
     "output_type": "stream",
     "text": [
      "    Found existing installation: numpy 2.3.4\n"
     ]
    },
    {
     "name": "stdout",
     "output_type": "stream",
     "text": [
      "    Uninstalling numpy-2.3.4:\n"
     ]
    },
    {
     "name": "stdout",
     "output_type": "stream",
     "text": [
      "      Successfully uninstalled numpy-2.3.4\n"
     ]
    },
    {
     "name": "stdout",
     "output_type": "stream",
     "text": [
      "Successfully installed numpy-1.26.4\n"
     ]
    },
    {
     "name": "stderr",
     "output_type": "stream",
     "text": [
      "\u001b[33mWARNING: Running pip as the 'root' user can result in broken permissions and conflicting behavi"
     ]
    },
    {
     "name": "stderr",
     "output_type": "stream",
     "text": [
      "our with the system package manager, possibly rendering your system unusable. It is recommended to u"
     ]
    },
    {
     "name": "stderr",
     "output_type": "stream",
     "text": [
      "se a virtual environment instead: https://pip.pypa.io/warnings/venv. Use the --root-user-action opti"
     ]
    },
    {
     "name": "stderr",
     "output_type": "stream",
     "text": [
      "on if you know what you are doing and want to suppress this warning.\u001b[0m\u001b[33m\n",
      "\u001b[0m"
     ]
    }
   ],
   "source": [
    "%%bash\n",
    "set -euo pipefail\n",
    "python3 -m pip install --upgrade scikit-learn hdbscan gudhi joblib threadpoolctl\n",
    "python3 -m pip install --force-reinstall \"numpy==1.26.4\""
   ]
  },
  {
   "cell_type": "markdown",
   "id": "e1e38301",
   "metadata": {},
   "source": [
    "## 8. Install HypergraphPercol from source\n",
    "\n",
    "Finally, install the package so that it becomes importable inside the notebook runtime. Using `--no-deps` keeps the `cyminiball` wheel we built earlier instead of asking `pip` to recompile it."
   ]
  },
  {
   "cell_type": "code",
   "execution_count": 8,
   "id": "d6140339",
   "metadata": {
    "execution": {
     "iopub.execute_input": "2025-10-30T17:19:52.423776Z",
     "iopub.status.busy": "2025-10-30T17:19:52.423353Z",
     "iopub.status.idle": "2025-10-30T17:20:16.671783Z",
     "shell.execute_reply": "2025-10-30T17:20:16.670328Z"
    }
   },
   "outputs": [
    {
     "name": "stdout",
     "output_type": "stream",
     "text": [
      "Processing /content/HypergraphPercol\n"
     ]
    },
    {
     "name": "stdout",
     "output_type": "stream",
     "text": [
      "  Installing build dependencies: started\n"
     ]
    },
    {
     "name": "stdout",
     "output_type": "stream",
     "text": [
      "  Installing build dependencies: finished with status 'done'\n",
      "  Getting requirements to build wheel: "
     ]
    },
    {
     "name": "stdout",
     "output_type": "stream",
     "text": [
      "started\n"
     ]
    },
    {
     "name": "stdout",
     "output_type": "stream",
     "text": [
      "  Getting requirements to build wheel: finished with status 'done'\n"
     ]
    },
    {
     "name": "stdout",
     "output_type": "stream",
     "text": [
      "  Preparing metadata (pyproject.toml): started\n"
     ]
    },
    {
     "name": "stdout",
     "output_type": "stream",
     "text": [
      "  Preparing metadata (pyproject.toml): finished with status 'done'\n"
     ]
    },
    {
     "name": "stdout",
     "output_type": "stream",
     "text": [
      "Building wheels for collected packages: hypergraphpercol\n"
     ]
    },
    {
     "name": "stdout",
     "output_type": "stream",
     "text": [
      "  Building wheel for hypergraphpercol (pyproject.toml): started\n"
     ]
    },
    {
     "name": "stdout",
     "output_type": "stream",
     "text": [
      "  Building wheel for hypergraphpercol (pyproject.toml): finished with status 'done'\n"
     ]
    },
    {
     "name": "stdout",
     "output_type": "stream",
     "text": [
      "  Created wheel for hypergraphpercol: filename=hypergraphpercol-0.1.0-cp312-cp312-linux_x86_64.whl s"
     ]
    },
    {
     "name": "stdout",
     "output_type": "stream",
     "text": [
      "ize=784586 sha256=1247b5ab89f7ddb5bf594b2cc2292b7b6e270926518c4d11ee035cc271faef0c\n"
     ]
    },
    {
     "name": "stdout",
     "output_type": "stream",
     "text": [
      "  Stored in directory: /tmp/pip-ephem-wheel-cache-00d83cxt/wheels/3f/54/d5/4401e58cb19ca8b94fb207d88"
     ]
    },
    {
     "name": "stdout",
     "output_type": "stream",
     "text": [
      "e462ee287a0fd80e24d85a076\n"
     ]
    },
    {
     "name": "stdout",
     "output_type": "stream",
     "text": [
      "Successfully built hypergraphpercol\n"
     ]
    },
    {
     "name": "stdout",
     "output_type": "stream",
     "text": [
      "Installing collected packages: hypergraphpercol\n"
     ]
    },
    {
     "name": "stdout",
     "output_type": "stream",
     "text": [
      "  Attempting uninstall: hypergraphpercol\n"
     ]
    },
    {
     "name": "stdout",
     "output_type": "stream",
     "text": [
      "    Found existing installation: hypergraphpercol 0.1.0\n"
     ]
    },
    {
     "name": "stdout",
     "output_type": "stream",
     "text": [
      "    Uninstalling hypergraphpercol-0.1.0:\n"
     ]
    },
    {
     "name": "stdout",
     "output_type": "stream",
     "text": [
      "      Successfully uninstalled hypergraphpercol-0.1.0\n"
     ]
    },
    {
     "name": "stdout",
     "output_type": "stream",
     "text": [
      "Successfully installed hypergraphpercol-0.1.0\n"
     ]
    },
    {
     "name": "stderr",
     "output_type": "stream",
     "text": [
      "\u001b[33mWARNING: Running pip as the 'root' user can result in broken permissions and conflicting behavi"
     ]
    },
    {
     "name": "stderr",
     "output_type": "stream",
     "text": [
      "our with the system package manager, possibly rendering your system unusable. It is recommended to u"
     ]
    },
    {
     "name": "stderr",
     "output_type": "stream",
     "text": [
      "se a virtual environment instead: https://pip.pypa.io/warnings/venv. Use the --root-user-action opti"
     ]
    },
    {
     "name": "stderr",
     "output_type": "stream",
     "text": [
      "on if you know what you are doing and want to suppress this warning.\u001b[0m\u001b[33m\n",
      "\u001b[0m"
     ]
    }
   ],
   "source": [
    "%%bash\n",
    "set -euo pipefail\n",
    "cd /content/HypergraphPercol\n",
    "python3 -m pip install --no-deps --force-reinstall .\n"
   ]
  },
  {
   "cell_type": "markdown",
   "id": "e1cfcfa2",
   "metadata": {},
   "source": [
    "## 9. Configure the runtime (optional) and validate the installation\n",
    "\n",
    "The package defaults to `/content/HypergraphPercol/CGALDelaunay` when `cgal_root` is not provided. The following cell sets the environment variable explicitly and performs a simple clustering run to ensure everything is functional."
   ]
  },
  {
   "cell_type": "code",
   "execution_count": 9,
   "id": "84c2d789",
   "metadata": {
    "execution": {
     "iopub.execute_input": "2025-10-30T17:20:16.675756Z",
     "iopub.status.busy": "2025-10-30T17:20:16.675366Z",
     "iopub.status.idle": "2025-10-30T17:21:59.973641Z",
     "shell.execute_reply": "2025-10-30T17:21:59.971971Z"
    }
   },
   "outputs": [
    {
     "name": "stderr",
     "output_type": "stream",
     "text": [
      "[info] TBB enabled, using up to 1 threads\n",
      "[info] Loaded 80 points\n",
      "[info] Wrote 492 edges to /tmp/tmpgsh9ydb7/edges80.npy\n",
      "[info] TBB enabled, using up to 1 threads\n",
      "[info] Loaded 492 points\n",
      "[info] Spatially sorted points prior to insertion\n",
      "[info] Wrote 3243 edges to /tmp/tmp1laf95l_/edges492.npy\n",
      "[info] TBB enabled, using up to 1 threads\n",
      "[info] Loaded 2539 points\n",
      "[info] Spatially sorted points prior to insertion\n",
      "[info] Wrote 8215 edges to /tmp/tmpksn3g7q3/edges2539.npy\n"
     ]
    },
    {
     "name": "stdout",
     "output_type": "stream",
     "text": [
      "orderk_delaunay k = 1\n",
      "Computed weighted barycentres 492\n",
      "orderk_delaunay k = 2\n",
      "Computed weighted barycentres 2539\n"
     ]
    },
    {
     "name": "stdout",
     "output_type": "stream",
     "text": [
      "orderk_delaunay k = 3\n",
      "Computed weighted barycentres 6014\n"
     ]
    },
    {
     "name": "stderr",
     "output_type": "stream",
     "text": [
      "[info] TBB enabled, using up to 1 threads\n",
      "[info] Loaded 6014 points\n",
      "[info] Spatially sorted points prior to insertion\n",
      "[info] Wrote 14975 edges to /tmp/tmp8ebyycnd/edges6014.npy\n"
     ]
    },
    {
     "name": "stdout",
     "output_type": "stream",
     "text": [
      "orderk_delaunay k = 4\n",
      "Computed weighted barycentres 10377\n"
     ]
    },
    {
     "name": "stderr",
     "output_type": "stream",
     "text": [
      "[info] TBB enabled, using up to 1 threads\n",
      "[info] Loaded 10377 points\n",
      "[info] Spatially sorted points prior to insertion\n",
      "[info] Wrote 23199 edges to /tmp/tmpbd2qvzq8/edges10377.npy\n"
     ]
    },
    {
     "name": "stdout",
     "output_type": "stream",
     "text": [
      "orderk_delaunay k = 5\n",
      "Computed weighted barycentres 15672\n"
     ]
    },
    {
     "name": "stderr",
     "output_type": "stream",
     "text": [
      "[info] TBB enabled, using up to 1 threads\n",
      "[info] Loaded 15672 points\n",
      "[info] Spatially sorted points prior to insertion\n"
     ]
    },
    {
     "name": "stderr",
     "output_type": "stream",
     "text": [
      "[info] Wrote 32091 edges to /tmp/tmpnbxwc8dq/edges15672.npy\n"
     ]
    },
    {
     "name": "stdout",
     "output_type": "stream",
     "text": [
      "orderk_delaunay k = 6\n",
      "Computed weighted barycentres 21685\n"
     ]
    },
    {
     "name": "stderr",
     "output_type": "stream",
     "text": [
      "[info] TBB enabled, using up to 1 threads\n",
      "[info] Loaded 21685 points\n",
      "[info] Spatially sorted points prior to insertion\n"
     ]
    },
    {
     "name": "stderr",
     "output_type": "stream",
     "text": [
      "[info] Wrote 41968 edges to /tmp/tmpipc_iq1f/edges21685.npy\n"
     ]
    },
    {
     "name": "stdout",
     "output_type": "stream",
     "text": [
      "orderk_delaunay k = 7\n",
      "Computed weighted barycentres 27889\n"
     ]
    },
    {
     "name": "stderr",
     "output_type": "stream",
     "text": [
      "[info] TBB enabled, using up to 1 threads\n",
      "[info] Loaded 27889 points\n",
      "[info] Spatially sorted points prior to insertion\n"
     ]
    },
    {
     "name": "stderr",
     "output_type": "stream",
     "text": [
      "[info] Wrote 52200 edges to /tmp/tmpwl4w6ujl/edges27889.npy\n"
     ]
    },
    {
     "name": "stdout",
     "output_type": "stream",
     "text": [
      "orderk_delaunay k = 8\n",
      "Computed weighted barycentres 34368\n"
     ]
    },
    {
     "name": "stderr",
     "output_type": "stream",
     "text": [
      "[info] TBB enabled, using up to 1 threads\n",
      "[info] Loaded 34368 points\n",
      "[info] Spatially sorted points prior to insertion\n"
     ]
    },
    {
     "name": "stderr",
     "output_type": "stream",
     "text": [
      "[info] Wrote 62535 edges to /tmp/tmpw60gyhm4/edges34368.npy\n"
     ]
    },
    {
     "name": "stdout",
     "output_type": "stream",
     "text": [
      "orderk_delaunay k = 9\n",
      "Simplexes sans filtration : 40964\n"
     ]
    },
    {
     "name": "stdout",
     "output_type": "stream",
     "text": [
      "N_CPU_dispo utilisés :  -1\n"
     ]
    },
    {
     "name": "stdout",
     "output_type": "stream",
     "text": [
      "2-simplices=4915680\n"
     ]
    },
    {
     "name": "stdout",
     "output_type": "stream",
     "text": [
      "Faces uniques: 1927 (compression 14747040→1927)\n"
     ]
    },
    {
     "name": "stdout",
     "output_type": "stream",
     "text": [
      "Arêtes uniques (u<v): 35254 (avant dédup 9831360)\n",
      "MST faces: 1926 arêtes, composantes estimées: 1\n",
      "[COMP-F:0] components=1, faces=1927, points=80, RSS=3.2 GiB\n",
      "[COMP-F:1] comp 1/1 | faces=1927, edges=1926, Z_est≈60.2 KiB, RSS=3.2 GiB\n",
      "[PRUNE] leaves=1927, classes=110, Z_pruned shape=(109, 4)\n",
      "[COMP-F:2] comp 1/1 done | cumul points labellisés=78 | conflits=2 | RSS=3.2 GiB\n",
      "Clusters finaux : 2 | bruit : 2 | RSS=3.2 GiB\n"
     ]
    },
    {
     "name": "stdout",
     "output_type": "stream",
     "text": [
      "Unique labels: [-1  0  1]\n"
     ]
    }
   ],
   "source": [
    "\n",
    "import os\n",
    "import numpy as np\n",
    "\n",
    "os.environ[\"CGALDELAUNAY_ROOT\"] = \"/content/HypergraphPercol/CGALDelaunay\"\n",
    "\n",
    "from hypergraphpercol import HypergraphPercol\n",
    "\n",
    "rng = np.random.default_rng(0)\n",
    "data = np.vstack([\n",
    "    rng.normal(loc=-2.0, scale=0.4, size=(40, 3)),\n",
    "    rng.normal(loc=2.0, scale=0.4, size=(40, 3)),\n",
    "])\n",
    "labels = HypergraphPercol(\n",
    "    data,\n",
    "    K=2,\n",
    "    min_cluster_size=20,\n",
    "    min_samples=10,\n",
    "    metric=\"euclidean\",\n",
    "    complex_chosen=\"auto\",\n",
    "    expZ=2,\n",
    "    precision=\"safe\",\n",
    "    verbeux=True,\n",
    "    cgal_root=os.environ[\"CGALDELAUNAY_ROOT\"],\n",
    ")\n",
    "print(\"Unique labels:\", np.unique(labels))\n"
   ]
  }
 ],
 "metadata": {
  "colab": {
   "name": "hgp-compil.ipynb",
   "provenance": []
  },
  "kernelspec": {
   "display_name": "Python 3",
   "language": "python",
   "name": "python3"
  },
  "language_info": {
   "codemirror_mode": {
    "name": "ipython",
    "version": 3
   },
   "file_extension": ".py",
   "mimetype": "text/x-python",
   "name": "python",
   "nbconvert_exporter": "python",
   "pygments_lexer": "ipython3",
   "version": "3.12.10"
  }
 },
 "nbformat": 4,
 "nbformat_minor": 5
}
