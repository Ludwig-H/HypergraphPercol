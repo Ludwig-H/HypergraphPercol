{
  "cells": [
    {
      "cell_type": "markdown",
      "id": "816d2fe3",
      "metadata": {
        "id": "816d2fe3"
      },
      "source": [
        "# HypergraphPercol Colab build\n",
        "\n",
        "This notebook reproduces the multi-stage Docker build pipeline inside a Google Colab runtime so that the `HypergraphPercol` package and its CGAL helpers are available directly from a Colab session."
      ]
    },
    {
      "cell_type": "markdown",
      "id": "4a061a3c",
      "metadata": {
        "id": "4a061a3c"
      },
      "source": [
        "> **Execution order**\n",
        "> Run the cells sequentially from top to bottom in a fresh Colab runtime. The build relies on system packages, so restarting midway may require rerunning the earlier cells."
      ]
    },
    {
      "cell_type": "markdown",
      "id": "5252fee7",
      "metadata": {
        "id": "5252fee7"
      },
      "source": [
        "## 1. Install system dependencies\n",
        "\n",
        "The Dockerfile installs a series of Ubuntu packages that provide CGAL, Boost, Eigen and a modern build toolchain. We replicate the same setup here."
      ]
    },
    {
      "cell_type": "code",
      "execution_count": 1,
      "id": "4bb48837",
      "metadata": {
        "id": "4bb48837",
        "outputId": "8d9c322e-54aa-49a4-fd6a-4893e370aac8",
        "colab": {
          "base_uri": "https://localhost:8080/"
        }
      },
      "outputs": [
        {
          "output_type": "stream",
          "name": "stdout",
          "text": [
            "Selecting previously unselected package libgmpxx4ldbl:amd64.\r\n",
            "(Reading database ... \r(Reading database ... 5%\r(Reading database ... 10%\r(Reading database ... 15%\r(Reading database ... 20%\r(Reading database ... 25%\r(Reading database ... 30%\r(Reading database ... 35%\r(Reading database ... 40%\r(Reading database ... 45%\r(Reading database ... 50%\r(Reading database ... 55%\r(Reading database ... 60%\r(Reading database ... 65%\r(Reading database ... 70%\r(Reading database ... 75%\r(Reading database ... 80%\r(Reading database ... 85%\r(Reading database ... 90%\r(Reading database ... 95%\r(Reading database ... 100%\r(Reading database ... 126281 files and directories currently installed.)\r\n",
            "Preparing to unpack .../libgmpxx4ldbl_2%3a6.2.1+dfsg-3ubuntu1_amd64.deb ...\r\n",
            "Unpacking libgmpxx4ldbl:amd64 (2:6.2.1+dfsg-3ubuntu1) ...\r\n",
            "Selecting previously unselected package libgmp-dev:amd64.\r\n",
            "Preparing to unpack .../libgmp-dev_2%3a6.2.1+dfsg-3ubuntu1_amd64.deb ...\r\n",
            "Unpacking libgmp-dev:amd64 (2:6.2.1+dfsg-3ubuntu1) ...\r\n",
            "Selecting previously unselected package libmpfr-dev:amd64.\r\n",
            "Preparing to unpack .../libmpfr-dev_4.1.0-3build3_amd64.deb ...\r\n",
            "Unpacking libmpfr-dev:amd64 (4.1.0-3build3) ...\r\n",
            "Selecting previously unselected package libcgal-dev:amd64.\r\n",
            "Preparing to unpack .../libcgal-dev_5.4-1_amd64.deb ...\r\n",
            "Unpacking libcgal-dev:amd64 (5.4-1) ...\r\n",
            "Selecting previously unselected package libeigen3-dev.\r\n",
            "Preparing to unpack .../libeigen3-dev_3.4.0-2ubuntu2_all.deb ...\r\n",
            "Unpacking libeigen3-dev (3.4.0-2ubuntu2) ...\r\n",
            "Setting up libgmpxx4ldbl:amd64 (2:6.2.1+dfsg-3ubuntu1) ...\r\n",
            "Setting up libeigen3-dev (3.4.0-2ubuntu2) ...\r\n",
            "Setting up libgmp-dev:amd64 (2:6.2.1+dfsg-3ubuntu1) ...\r\n",
            "Setting up libmpfr-dev:amd64 (4.1.0-3build3) ...\r\n",
            "Setting up libcgal-dev:amd64 (5.4-1) ...\r\n",
            "Processing triggers for man-db (2.10.2-1) ...\r\n",
            "Processing triggers for libc-bin (2.35-0ubuntu3.8) ...\r\n",
            "/sbin/ldconfig.real: /usr/local/lib/libur_loader.so.0 is not a symbolic link\r\n",
            "\r\n",
            "/sbin/ldconfig.real: /usr/local/lib/libur_adapter_opencl.so.0 is not a symbolic link\r\n",
            "\r\n",
            "/sbin/ldconfig.real: /usr/local/lib/libur_adapter_level_zero_v2.so.0 is not a symbolic link\r\n",
            "\r\n",
            "/sbin/ldconfig.real: /usr/local/lib/libur_adapter_level_zero.so.0 is not a symbolic link\r\n",
            "\r\n",
            "/sbin/ldconfig.real: /usr/local/lib/libumf.so.0 is not a symbolic link\r\n",
            "\r\n",
            "/sbin/ldconfig.real: /usr/local/lib/libtcm_debug.so.1 is not a symbolic link\r\n",
            "\r\n",
            "/sbin/ldconfig.real: /usr/local/lib/libtcm.so.1 is not a symbolic link\r\n",
            "\r\n",
            "/sbin/ldconfig.real: /usr/local/lib/libtbbmalloc_proxy.so.2 is not a symbolic link\r\n",
            "\r\n",
            "/sbin/ldconfig.real: /usr/local/lib/libtbbmalloc.so.2 is not a symbolic link\r\n",
            "\r\n",
            "/sbin/ldconfig.real: /usr/local/lib/libtbbbind_2_5.so.3 is not a symbolic link\r\n",
            "\r\n",
            "/sbin/ldconfig.real: /usr/local/lib/libtbbbind_2_0.so.3 is not a symbolic link\r\n",
            "\r\n",
            "/sbin/ldconfig.real: /usr/local/lib/libtbbbind.so.3 is not a symbolic link\r\n",
            "\r\n",
            "/sbin/ldconfig.real: /usr/local/lib/libtbb.so.12 is not a symbolic link\r\n",
            "\r\n",
            "/sbin/ldconfig.real: /usr/local/lib/libhwloc.so.15 is not a symbolic link\r\n",
            "\r\n"
          ]
        },
        {
          "output_type": "stream",
          "name": "stderr",
          "text": [
            "W: Skipping acquire of configured file 'main/source/Sources' as repository 'https://r2u.stat.illinois.edu/ubuntu jammy InRelease' does not seem to provide it (sources.list entry misspelt?)\n"
          ]
        }
      ],
      "source": [
        "%%bash\n",
        "# set -euo pipefail\n",
        "# apt-get update\n",
        "# DEBIAN_FRONTEND=noninteractive apt-get install -y     build-essential     cmake     git     libtbb-dev     libcgal-dev     libboost-all-dev     libeigen3-dev\n",
        "\n",
        "# Colab: paquets système pour CGAL/TBB/CMake\n",
        "apt-get update -qq\n",
        "apt-get install -y -qq build-essential cmake libcgal-dev libtbb-dev libtbbmalloc2 \\\n",
        "    libgmp-dev libmpfr-dev libeigen3-dev"
      ]
    },
    {
      "cell_type": "markdown",
      "id": "9905c755",
      "metadata": {
        "id": "9905c755"
      },
      "source": [
        "## 2. Upgrade `pip` and core Python build tooling\n",
        "\n",
        "The compiled extensions require an up-to-date Python build stack along with Cython and NumPy 2.1.3 (force reinstalled to avoid mixed ABI issues on Colab). We also pre-install `cmake` through `pip` to match the Docker workflow."
      ]
    },
    {
      "cell_type": "code",
      "execution_count": 2,
      "id": "806a99b9",
      "metadata": {
        "id": "806a99b9",
        "outputId": "86c97193-101d-42a2-9068-1139415d7690",
        "colab": {
          "base_uri": "https://localhost:8080/"
        }
      },
      "outputs": [
        {
          "output_type": "stream",
          "name": "stdout",
          "text": [
            "\u001b[?25l   \u001b[90m━━━━━━━━━━━━━━━━━━━━━━━━━━━━━━━━━━━━━━━━\u001b[0m \u001b[32m0.0/1.8 MB\u001b[0m \u001b[31m?\u001b[0m eta \u001b[36m-:--:--\u001b[0m\r\u001b[2K   \u001b[90m━━━━━━━━━━━━━━━━━━━━━━━━━━━━━━━━━━━━━━━━\u001b[0m \u001b[32m1.8/1.8 MB\u001b[0m \u001b[31m59.8 MB/s\u001b[0m eta \u001b[36m0:00:00\u001b[0m\n",
            "\u001b[?25h\u001b[?25l   \u001b[90m━━━━━━━━━━━━━━━━━━━━━━━━━━━━━━━━━━━━━━━━\u001b[0m \u001b[32m0.0/1.2 MB\u001b[0m \u001b[31m?\u001b[0m eta \u001b[36m-:--:--\u001b[0m\r\u001b[2K   \u001b[90m━━━━━━━━━━━━━━━━━━━━━━━━━━━━━━━━━━━━━━━━\u001b[0m \u001b[32m1.2/1.2 MB\u001b[0m \u001b[31m95.2 MB/s\u001b[0m eta \u001b[36m0:00:00\u001b[0m\n",
            "\u001b[2K   \u001b[90m━━━━━━━━━━━━━━━━━━━━━━━━━━━━━━━━━━━━━━━━\u001b[0m \u001b[32m3.3/3.3 MB\u001b[0m \u001b[31m152.7 MB/s\u001b[0m eta \u001b[36m0:00:00\u001b[0m\n",
            "\u001b[2K   \u001b[90m━━━━━━━━━━━━━━━━━━━━━━━━━━━━━━━━━━━━━━━━\u001b[0m \u001b[32m29.7/29.7 MB\u001b[0m \u001b[31m126.1 MB/s\u001b[0m eta \u001b[36m0:00:00\u001b[0m\n",
            "\u001b[2K   \u001b[90m━━━━━━━━━━━━━━━━━━━━━━━━━━━━━━━━━━━━━━━━\u001b[0m \u001b[32m1.6/1.6 MB\u001b[0m \u001b[31m104.3 MB/s\u001b[0m eta \u001b[36m0:00:00\u001b[0m\n",
            "\u001b[?25h"
          ]
        }
      ],
      "source": [
        "# %%bash\n",
        "# set -euo pipefail\n",
        "# python3 -m pip install --upgrade pip setuptools wheel \"Cython>=3.0\" cmake jedi\n",
        "# python3 -m pip install --no-cache-dir --force-reinstall \"numpy==2.1.3\"\n",
        "!pip install -q --upgrade pip setuptools wheel Cython cmake jedi\n",
        "# Choix stable: NumPy 2.0.x pour rester compatible avec numba 0.60 et hdbscan\n",
        "# pip install -q \"numpy==2.0.2\" \"scikit-learn==1.7.2\" \"numba==0.60.*\" \"hdbscan==0.8.40\" \"gudhi==3.11.0\" joblib threadpoolctl\n",
        "\n"
      ]
    },
    {
      "cell_type": "code",
      "source": [
        "# import os, signal\n",
        "# os.kill(os.getpid(), signal.SIGKILL)\n"
      ],
      "metadata": {
        "id": "ApYBTEUliHq-"
      },
      "id": "ApYBTEUliHq-",
      "execution_count": 3,
      "outputs": []
    },
    {
      "cell_type": "markdown",
      "id": "51744462",
      "metadata": {
        "id": "51744462"
      },
      "source": [
        "## 3. Clone the required repositories\n",
        "\n",
        "We fetch both the main HypergraphPercol sources and the `cyminiball` dependency at the same revisions used by the Docker build."
      ]
    },
    {
      "cell_type": "code",
      "execution_count": 4,
      "id": "02326ca4",
      "metadata": {
        "id": "02326ca4",
        "outputId": "44e2cf41-51e1-4469-9605-cbeca4edd5ae",
        "colab": {
          "base_uri": "https://localhost:8080/"
        }
      },
      "outputs": [
        {
          "output_type": "stream",
          "name": "stderr",
          "text": [
            "Cloning into 'HypergraphPercol'...\n",
            "Cloning into 'cyminiball'...\n"
          ]
        }
      ],
      "source": [
        "%%bash\n",
        "set -euo pipefail\n",
        "WORKDIR=\"${HGP_WORKDIR:-/content}\"\n",
        "mkdir -p \"${WORKDIR}\"\n",
        "cd \"${WORKDIR}\"\n",
        "if [ -d HypergraphPercol ]; then\n",
        "    git -C HypergraphPercol pull --ff-only\n",
        "else\n",
        "    git clone https://github.com/Ludwig-H/HypergraphPercol.git\n",
        "fi\n",
        "if [ -d cyminiball ]; then\n",
        "    git -C cyminiball pull --ff-only\n",
        "else\n",
        "    git clone https://github.com/Ludwig-H/cyminiball.git\n",
        "fi\n"
      ]
    },
    {
      "cell_type": "markdown",
      "id": "8ab0687c",
      "metadata": {
        "id": "8ab0687c"
      },
      "source": [
        "## 4. Build and install `cyminiball`\n",
        "\n",
        "The Docker image creates a wheel from source and installs it without build isolation. We mirror that approach so the same binary is present inside Colab."
      ]
    },
    {
      "cell_type": "code",
      "execution_count": 5,
      "id": "c3bf2234",
      "metadata": {
        "id": "c3bf2234",
        "outputId": "412b13d3-e957-46d1-a253-b8008c741a4f",
        "colab": {
          "base_uri": "https://localhost:8080/"
        }
      },
      "outputs": [
        {
          "output_type": "stream",
          "name": "stdout",
          "text": [
            "Processing /content/cyminiball\n",
            "  Preparing metadata (pyproject.toml): started\n",
            "  Preparing metadata (pyproject.toml): finished with status 'done'\n",
            "Building wheels for collected packages: cyminiball\n",
            "  Building wheel for cyminiball (pyproject.toml): started\n",
            "  Building wheel for cyminiball (pyproject.toml): finished with status 'done'\n",
            "  Created wheel for cyminiball: filename=cyminiball-2.1.1-cp311-cp311-linux_x86_64.whl size=736473 sha256=c54093fa1f985669856e1a10367af9db82f4e6e5d2183a5fdebdb303f257d8ea\n",
            "  Stored in directory: /tmp/pip-ephem-wheel-cache-m9ztpsoa/wheels/21/27/f8/6e45a319e6b22be890a545c6e52d90f59618cbc5b7e9261c97\n",
            "Successfully built cyminiball\n",
            "Looking in links: /content/wheels\n",
            "Processing /content/wheels/cyminiball-2.1.1-cp311-cp311-linux_x86_64.whl\n",
            "Installing collected packages: cyminiball\n",
            "Successfully installed cyminiball-2.1.1\n"
          ]
        }
      ],
      "source": [
        "%%bash\n",
        "set -euo pipefail\n",
        "WORKDIR=\"${HGP_WORKDIR:-/content}\"\n",
        "mkdir -p \"${WORKDIR}/wheels\"\n",
        "cd \"${WORKDIR}/cyminiball\"\n",
        "python3 -m pip wheel --no-build-isolation --no-deps --wheel-dir=\"${WORKDIR}/wheels\" .\n",
        "python3 -m pip install --force-reinstall --no-deps --no-index --find-links=\"${WORKDIR}/wheels\" cyminiball\n",
        "# python3 -m pip install --no-cache-dir --force-reinstall \"numpy==2.1.3\"\n"
      ]
    },
    {
      "cell_type": "markdown",
      "id": "92e29c47",
      "metadata": {
        "id": "92e29c47"
      },
      "source": [
        "## 5. Download the CGAL helper projects\n",
        "\n",
        "The helper script clones the six CGAL-based executables required by HypergraphPercol."
      ]
    },
    {
      "cell_type": "code",
      "execution_count": 6,
      "id": "245a8645",
      "metadata": {
        "id": "245a8645",
        "outputId": "bb0b58d0-1b90-4450-e2b2-73c52fb3c324",
        "colab": {
          "base_uri": "https://localhost:8080/"
        }
      },
      "outputs": [
        {
          "output_type": "stream",
          "name": "stdout",
          "text": [
            "[clone] https://github.com/Ludwig-H/EdgesCGALWeightedDelaunay3D.git -> /content/HypergraphPercol/CGALDelaunay/EdgesCGALWeightedDelaunay3D\n",
            "[clone] https://github.com/Ludwig-H/EdgesCGALWeightedDelaunay2D.git -> /content/HypergraphPercol/CGALDelaunay/EdgesCGALWeightedDelaunay2D\n",
            "[clone] https://github.com/Ludwig-H/EdgesCGALWeightedDelaunayND.git -> /content/HypergraphPercol/CGALDelaunay/EdgesCGALWeightedDelaunayND\n",
            "[clone] https://github.com/Ludwig-H/EdgesCGALDelaunay3D.git -> /content/HypergraphPercol/CGALDelaunay/EdgesCGALDelaunay3D\n",
            "[clone] https://github.com/Ludwig-H/EdgesCGALDelaunay2D.git -> /content/HypergraphPercol/CGALDelaunay/EdgesCGALDelaunay2D\n",
            "[clone] https://github.com/Ludwig-H/EdgesCGALDelaunayND.git -> /content/HypergraphPercol/CGALDelaunay/EdgesCGALDelaunayND\n"
          ]
        },
        {
          "output_type": "stream",
          "name": "stderr",
          "text": [
            "Cloning into '/content/HypergraphPercol/CGALDelaunay/EdgesCGALWeightedDelaunay3D'...\n",
            "Cloning into '/content/HypergraphPercol/CGALDelaunay/EdgesCGALWeightedDelaunay2D'...\n",
            "Cloning into '/content/HypergraphPercol/CGALDelaunay/EdgesCGALWeightedDelaunayND'...\n",
            "Cloning into '/content/HypergraphPercol/CGALDelaunay/EdgesCGALDelaunay3D'...\n",
            "Cloning into '/content/HypergraphPercol/CGALDelaunay/EdgesCGALDelaunay2D'...\n",
            "Cloning into '/content/HypergraphPercol/CGALDelaunay/EdgesCGALDelaunayND'...\n"
          ]
        }
      ],
      "source": [
        "%%bash\n",
        "set -euo pipefail\n",
        "WORKDIR=\"${HGP_WORKDIR:-/content}\"\n",
        "cd \"${WORKDIR}/HypergraphPercol\"\n",
        "python3 scripts/setup_cgal.py\n"
      ]
    },
    {
      "cell_type": "markdown",
      "id": "54d06acf",
      "metadata": {
        "id": "54d06acf"
      },
      "source": [
        "## 7. Install Python runtime dependencies\n",
        "\n",
        "HypergraphPercol depends on scientific Python packages such as scikit-learn, HDBSCAN and GUDHI. Installing them upfront ensures that the later `pip install` step can reuse the locally built `cyminiball` wheel without attempting to rebuild it. Some of these wheels may opportunistically upgrade NumPy, so we immediately reinstall 2.1.3 afterwards to keep the ABI aligned with the compiled extensions."
      ]
    },
    {
      "cell_type": "code",
      "execution_count": 7,
      "id": "cbede11e",
      "metadata": {
        "id": "cbede11e",
        "outputId": "46da881c-bc7e-4c83-937e-a65d062c3ae0",
        "colab": {
          "base_uri": "https://localhost:8080/"
        }
      },
      "outputs": [
        {
          "output_type": "stream",
          "name": "stdout",
          "text": [
            "-- The CXX compiler identification is GNU 11.4.0\n",
            "-- Detecting CXX compiler ABI info\n",
            "-- Detecting CXX compiler ABI info - done\n",
            "-- Check for working CXX compiler: /usr/bin/c++ - skipped\n",
            "-- Detecting CXX compile features\n",
            "-- Detecting CXX compile features - done\n",
            "-- Using header-only CGAL\n",
            "-- Targetting Unix Makefiles\n",
            "-- Using /usr/bin/c++ compiler.\n",
            "-- Found GMP: /usr/lib/x86_64-linux-gnu/libgmp.so\n",
            "-- Found MPFR: /usr/lib/x86_64-linux-gnu/libmpfr.so\n",
            "-- Found Boost: /usr/lib/x86_64-linux-gnu/cmake/Boost-1.74.0/BoostConfig.cmake (found suitable version \"1.74.0\", minimum required is \"1.48\")\n",
            "-- Boost include dirs: /usr/include\n",
            "-- Boost libraries:    \n",
            "-- Performing Test CMAKE_HAVE_LIBC_PTHREAD\n",
            "-- Performing Test CMAKE_HAVE_LIBC_PTHREAD - Success\n",
            "-- Found Threads: TRUE\n",
            "-- Using gcc version 4 or later. Adding -frounding-math\n",
            "-- Configuring done (0.9s)\n",
            "-- Generating done (0.0s)\n",
            "-- Build files have been written to: /content/HypergraphPercol/CGALDelaunay/EdgesCGALDelaunay2D/build\n",
            "[ 50%] Building CXX object CMakeFiles/EdgesCGALDelaunay2D.dir/src/EdgesCGALDelaunay2D.cpp.o\n",
            "[100%] Linking CXX executable EdgesCGALDelaunay2D\n",
            "[100%] Built target EdgesCGALDelaunay2D\n",
            "-- Install configuration: \"Release\"\n",
            "-- The CXX compiler identification is GNU 11.4.0\n",
            "-- Detecting CXX compiler ABI info\n",
            "-- Detecting CXX compiler ABI info - done\n",
            "-- Check for working CXX compiler: /usr/bin/c++ - skipped\n",
            "-- Detecting CXX compile features\n",
            "-- Detecting CXX compile features - done\n",
            "-- Using header-only CGAL\n",
            "-- Targetting Unix Makefiles\n",
            "-- Using /usr/bin/c++ compiler.\n",
            "-- Found GMP: /usr/lib/x86_64-linux-gnu/libgmp.so\n",
            "-- Found MPFR: /usr/lib/x86_64-linux-gnu/libmpfr.so\n",
            "-- Boost include dirs: /usr/include\n",
            "-- Boost libraries:    \n",
            "-- Performing Test CMAKE_HAVE_LIBC_PTHREAD\n",
            "-- Performing Test CMAKE_HAVE_LIBC_PTHREAD - Success\n",
            "-- Found Threads: TRUE\n",
            "-- Using gcc version 4 or later. Adding -frounding-math\n",
            "-- Configuring done (0.9s)\n",
            "-- Generating done (0.0s)\n",
            "-- Build files have been written to: /content/HypergraphPercol/CGALDelaunay/EdgesCGALDelaunay3D/build\n",
            "[ 50%] Building CXX object CMakeFiles/EdgesCGALDelaunay3D.dir/src/EdgesCGALDelaunay3D.cpp.o\n",
            "[100%] Linking CXX executable EdgesCGALDelaunay3D\n",
            "[100%] Built target EdgesCGALDelaunay3D\n",
            "-- Install configuration: \"Release\"\n",
            "-- The CXX compiler identification is GNU 11.4.0\n",
            "-- Detecting CXX compiler ABI info\n",
            "-- Detecting CXX compiler ABI info - done\n",
            "-- Check for working CXX compiler: /usr/bin/c++ - skipped\n",
            "-- Detecting CXX compile features\n",
            "-- Detecting CXX compile features - done\n",
            "-- Using header-only CGAL\n",
            "-- Targetting Unix Makefiles\n",
            "-- Using /usr/bin/c++ compiler.\n",
            "-- Found GMP: /usr/lib/x86_64-linux-gnu/libgmp.so\n",
            "-- Found MPFR: /usr/lib/x86_64-linux-gnu/libmpfr.so\n",
            "-- Found Boost: /usr/lib/x86_64-linux-gnu/cmake/Boost-1.74.0/BoostConfig.cmake (found suitable version \"1.74.0\", minimum required is \"1.48\")\n",
            "-- Boost include dirs: /usr/include\n",
            "-- Boost libraries:    \n",
            "-- Performing Test CMAKE_HAVE_LIBC_PTHREAD\n",
            "-- Performing Test CMAKE_HAVE_LIBC_PTHREAD - Success\n",
            "-- Found Threads: TRUE\n",
            "-- Using gcc version 4 or later. Adding -frounding-math\n",
            "-- TBB found: enabling 3D parallel fast-path\n",
            "-- Configuring done (1.2s)\n",
            "-- Generating done (0.0s)\n",
            "-- Build files have been written to: /content/HypergraphPercol/CGALDelaunay/EdgesCGALDelaunayND/build\n",
            "[ 50%] Building CXX object CMakeFiles/EdgesCGALDelaunayND.dir/src/EdgesCGALDelaunayND.cpp.o\n",
            "[100%] Linking CXX executable EdgesCGALDelaunayND\n",
            "[100%] Built target EdgesCGALDelaunayND\n",
            "-- Install configuration: \"Release\"\n",
            "-- The CXX compiler identification is GNU 11.4.0\n",
            "-- Detecting CXX compiler ABI info\n",
            "-- Detecting CXX compiler ABI info - done\n",
            "-- Check for working CXX compiler: /usr/bin/c++ - skipped\n",
            "-- Detecting CXX compile features\n",
            "-- Detecting CXX compile features - done\n",
            "-- Using header-only CGAL\n",
            "-- Targetting Unix Makefiles\n",
            "-- Using /usr/bin/c++ compiler.\n",
            "-- Found GMP: /usr/lib/x86_64-linux-gnu/libgmp.so\n",
            "-- Found MPFR: /usr/lib/x86_64-linux-gnu/libmpfr.so\n",
            "-- Found Boost: /usr/lib/x86_64-linux-gnu/cmake/Boost-1.74.0/BoostConfig.cmake (found suitable version \"1.74.0\", minimum required is \"1.48\")\n",
            "-- Boost include dirs: /usr/include\n",
            "-- Boost libraries:    \n",
            "-- Performing Test CMAKE_HAVE_LIBC_PTHREAD\n",
            "-- Performing Test CMAKE_HAVE_LIBC_PTHREAD - Success\n",
            "-- Found Threads: TRUE\n",
            "-- Using gcc version 4 or later. Adding -frounding-math\n",
            "-- Configuring done (0.7s)\n",
            "-- Generating done (0.0s)\n",
            "-- Build files have been written to: /content/HypergraphPercol/CGALDelaunay/EdgesCGALWeightedDelaunay2D/build\n",
            "[ 50%] Building CXX object CMakeFiles/EdgesCGALWeightedDelaunay2D.dir/src/EdgesCGALWeightedDelaunay2D.cpp.o\n",
            "[100%] Linking CXX executable EdgesCGALWeightedDelaunay2D\n",
            "[100%] Built target EdgesCGALWeightedDelaunay2D\n",
            "-- Install configuration: \"Release\"\n",
            "-- The CXX compiler identification is GNU 11.4.0\n",
            "-- Detecting CXX compiler ABI info\n",
            "-- Detecting CXX compiler ABI info - done\n",
            "-- Check for working CXX compiler: /usr/bin/c++ - skipped\n",
            "-- Detecting CXX compile features\n",
            "-- Detecting CXX compile features - done\n",
            "-- Using header-only CGAL\n",
            "-- Targetting Unix Makefiles\n",
            "-- Using /usr/bin/c++ compiler.\n",
            "-- Found GMP: /usr/lib/x86_64-linux-gnu/libgmp.so\n",
            "-- Found MPFR: /usr/lib/x86_64-linux-gnu/libmpfr.so\n",
            "-- Boost include dirs: /usr/include\n",
            "-- Boost libraries:    \n",
            "-- Performing Test CMAKE_HAVE_LIBC_PTHREAD\n",
            "-- Performing Test CMAKE_HAVE_LIBC_PTHREAD - Success\n",
            "-- Found Threads: TRUE\n",
            "-- Using gcc version 4 or later. Adding -frounding-math\n",
            "-- Configuring done (0.7s)\n",
            "-- Generating done (0.0s)\n",
            "-- Build files have been written to: /content/HypergraphPercol/CGALDelaunay/EdgesCGALWeightedDelaunay3D/build\n",
            "[ 50%] Building CXX object CMakeFiles/EdgesCGALWeightedDelaunay3D.dir/src/EdgesCGALWeightedDelaunay3D.cpp.o\n",
            "[100%] Linking CXX executable EdgesCGALWeightedDelaunay3D\n",
            "[100%] Built target EdgesCGALWeightedDelaunay3D\n",
            "-- Install configuration: \"Release\"\n"
          ]
        },
        {
          "output_type": "stream",
          "name": "stderr",
          "text": [
            "CMake Warning at /usr/lib/x86_64-linux-gnu/cmake/CGAL/CGALConfig.cmake:92 (message):\n",
            "  CGAL_DATA_DIR cannot be deduced, set the variable CGAL_DATA_DIR to set the\n",
            "  default value of CGAL::data_file_path()\n",
            "Call Stack (most recent call first):\n",
            "  CMakeLists.txt:6 (find_package)\n",
            "\n",
            "\n",
            "CMake Warning (dev) at /usr/lib/x86_64-linux-gnu/cmake/CGAL/CGAL_SetupBoost.cmake:20 (find_package):\n",
            "  Policy CMP0167 is not set: The FindBoost module is removed.  Run \"cmake\n",
            "  --help-policy CMP0167\" for policy details.  Use the cmake_policy command to\n",
            "  set the policy and suppress this warning.\n",
            "\n",
            "Call Stack (most recent call first):\n",
            "  /usr/lib/x86_64-linux-gnu/cmake/CGAL/CGAL_SetupCGALDependencies.cmake:47 (include)\n",
            "  /usr/lib/x86_64-linux-gnu/cmake/CGAL/CGALConfig.cmake:153 (include)\n",
            "  CMakeLists.txt:6 (find_package)\n",
            "This warning is for project developers.  Use -Wno-dev to suppress it.\n",
            "\n",
            "CMake Warning at /usr/lib/x86_64-linux-gnu/cmake/CGAL/CGALConfig.cmake:92 (message):\n",
            "  CGAL_DATA_DIR cannot be deduced, set the variable CGAL_DATA_DIR to set the\n",
            "  default value of CGAL::data_file_path()\n",
            "Call Stack (most recent call first):\n",
            "  CMakeLists.txt:14 (find_package)\n",
            "\n",
            "\n",
            "CMake Warning at /usr/lib/x86_64-linux-gnu/cmake/CGAL/CGALConfig.cmake:92 (message):\n",
            "  CGAL_DATA_DIR cannot be deduced, set the variable CGAL_DATA_DIR to set the\n",
            "  default value of CGAL::data_file_path()\n",
            "Call Stack (most recent call first):\n",
            "  CMakeLists.txt:12 (find_package)\n",
            "\n",
            "\n",
            "CMake Warning (dev) at /usr/lib/x86_64-linux-gnu/cmake/CGAL/CGAL_SetupBoost.cmake:20 (find_package):\n",
            "  Policy CMP0167 is not set: The FindBoost module is removed.  Run \"cmake\n",
            "  --help-policy CMP0167\" for policy details.  Use the cmake_policy command to\n",
            "  set the policy and suppress this warning.\n",
            "\n",
            "Call Stack (most recent call first):\n",
            "  /usr/lib/x86_64-linux-gnu/cmake/CGAL/CGAL_SetupCGALDependencies.cmake:47 (include)\n",
            "  /usr/lib/x86_64-linux-gnu/cmake/CGAL/CGALConfig.cmake:153 (include)\n",
            "  CMakeLists.txt:12 (find_package)\n",
            "This warning is for project developers.  Use -Wno-dev to suppress it.\n",
            "\n",
            "CMake Warning at /usr/lib/x86_64-linux-gnu/cmake/CGAL/CGALConfig.cmake:92 (message):\n",
            "  CGAL_DATA_DIR cannot be deduced, set the variable CGAL_DATA_DIR to set the\n",
            "  default value of CGAL::data_file_path()\n",
            "Call Stack (most recent call first):\n",
            "  CMakeLists.txt:6 (find_package)\n",
            "\n",
            "\n",
            "CMake Warning (dev) at /usr/lib/x86_64-linux-gnu/cmake/CGAL/CGAL_SetupBoost.cmake:20 (find_package):\n",
            "  Policy CMP0167 is not set: The FindBoost module is removed.  Run \"cmake\n",
            "  --help-policy CMP0167\" for policy details.  Use the cmake_policy command to\n",
            "  set the policy and suppress this warning.\n",
            "\n",
            "Call Stack (most recent call first):\n",
            "  /usr/lib/x86_64-linux-gnu/cmake/CGAL/CGAL_SetupCGALDependencies.cmake:47 (include)\n",
            "  /usr/lib/x86_64-linux-gnu/cmake/CGAL/CGALConfig.cmake:153 (include)\n",
            "  CMakeLists.txt:6 (find_package)\n",
            "This warning is for project developers.  Use -Wno-dev to suppress it.\n",
            "\n",
            "CMake Warning at /usr/lib/x86_64-linux-gnu/cmake/CGAL/CGALConfig.cmake:92 (message):\n",
            "  CGAL_DATA_DIR cannot be deduced, set the variable CGAL_DATA_DIR to set the\n",
            "  default value of CGAL::data_file_path()\n",
            "Call Stack (most recent call first):\n",
            "  CMakeLists.txt:15 (find_package)\n",
            "\n",
            "\n"
          ]
        }
      ],
      "source": [
        "%%bash\n",
        "set -euo pipefail\n",
        "WORKDIR=\"${HGP_WORKDIR:-/content}\"\n",
        "cd \"${WORKDIR}/HypergraphPercol/CGALDelaunay\"\n",
        "\n",
        "projects=(\n",
        "    EdgesCGALDelaunay2D\n",
        "    EdgesCGALDelaunay3D\n",
        "    EdgesCGALDelaunayND\n",
        "    EdgesCGALWeightedDelaunay2D\n",
        "    EdgesCGALWeightedDelaunay3D\n",
        "    EdgesCGALWeightedDelaunayND\n",
        ")\n",
        "\n",
        "for project in \"${projects[@]}\"; do\n",
        "    cmake -S \"${project}\" -B \"${project}/build\" -DCMAKE_BUILD_TYPE=Release\n",
        "    cmake --build \"${project}/build\" --config Release\n",
        "    cmake --install \"${project}/build\" --prefix \"${WORKDIR}/HypergraphPercol\"\n",
        "done\n"
      ]
    },
    {
      "cell_type": "markdown",
      "id": "526be758",
      "metadata": {
        "id": "526be758"
      },
      "source": [
        "## 7. Install Python runtime dependencies\n",
        "\n",
        "HypergraphPercol depends on scientific Python packages such as scikit-learn, HDBSCAN and GUDHI. Installing them upfront ensures that the later `pip install` step can reuse the locally built `cyminiball` wheel without attempting to rebuild it. Some of these wheels may opportunistically upgrade NumPy, so we immediately reinstall 2.1.3 afterwards to keep the ABI aligned with the compiled extensions."
      ]
    },
    {
      "cell_type": "code",
      "execution_count": 8,
      "id": "7a31a665",
      "metadata": {
        "id": "7a31a665"
      },
      "outputs": [],
      "source": [
        "# %%bash\n",
        "# set -euo pipefail\n",
        "# python3 -m pip install --upgrade scikit-learn hdbscan gudhi joblib threadpoolctl\n",
        "# python3 -m pip install --no-cache-dir --force-reinstall \"numpy==2.1.3\"\n"
      ]
    },
    {
      "cell_type": "markdown",
      "id": "e1e38301",
      "metadata": {
        "id": "e1e38301"
      },
      "source": [
        "## 8. Install HypergraphPercol from source\n",
        "\n",
        "Finally, install the package so that it becomes importable inside the notebook runtime. Using `--no-deps` keeps the `cyminiball` wheel we built earlier instead of asking `pip` to recompile it."
      ]
    },
    {
      "cell_type": "code",
      "execution_count": 9,
      "id": "d6140339",
      "metadata": {
        "id": "d6140339",
        "outputId": "ea0d846a-f2d7-4734-f617-2de17e28a76c",
        "colab": {
          "base_uri": "https://localhost:8080/"
        }
      },
      "outputs": [
        {
          "output_type": "stream",
          "name": "stdout",
          "text": [
            "Processing /content/HypergraphPercol\n",
            "  Installing build dependencies: started\n",
            "  Installing build dependencies: finished with status 'done'\n",
            "  Getting requirements to build wheel: started\n",
            "  Getting requirements to build wheel: finished with status 'done'\n",
            "  Preparing metadata (pyproject.toml): started\n",
            "  Preparing metadata (pyproject.toml): finished with status 'done'\n",
            "Building wheels for collected packages: hypergraphpercol\n",
            "  Building wheel for hypergraphpercol (pyproject.toml): started\n",
            "  Building wheel for hypergraphpercol (pyproject.toml): finished with status 'done'\n",
            "  Created wheel for hypergraphpercol: filename=hypergraphpercol-0.1.0-cp311-cp311-linux_x86_64.whl size=682076 sha256=951c3e952afb8f76a28918b2c9a9a0a78df693c2ea8ade57af91a31fe22461f7\n",
            "  Stored in directory: /tmp/pip-ephem-wheel-cache-f80i2je0/wheels/ce/3f/57/e100c6af9792b9d522941569c843abefaa87ccb546c540954f\n",
            "Successfully built hypergraphpercol\n",
            "Installing collected packages: hypergraphpercol\n",
            "Successfully installed hypergraphpercol-0.1.0\n"
          ]
        }
      ],
      "source": [
        "%%bash\n",
        "set -euo pipefail\n",
        "WORKDIR=\"${HGP_WORKDIR:-/content}\"\n",
        "cd \"${WORKDIR}/HypergraphPercol\"\n",
        "python3 -m pip install --no-deps --force-reinstall .\n"
      ]
    },
    {
      "cell_type": "markdown",
      "id": "e1cfcfa2",
      "metadata": {
        "id": "e1cfcfa2"
      },
      "source": [
        "## 9. Configure the runtime (optional) and validate the installation\n",
        "\n",
        "The package defaults to `/content/HypergraphPercol/CGALDelaunay` when `cgal_root` is not provided. The following cell sets the environment variable explicitly and performs a simple clustering run to ensure everything is functional."
      ]
    },
    {
      "cell_type": "code",
      "execution_count": 10,
      "id": "84c2d789",
      "metadata": {
        "id": "84c2d789",
        "outputId": "baff02f2-48d4-48a6-de4a-ba258d469c9f",
        "colab": {
          "base_uri": "https://localhost:8080/"
        }
      },
      "outputs": [
        {
          "output_type": "stream",
          "name": "stdout",
          "text": [
            "orderk_delaunay k = 1\n",
            "Computed weighted barycentres 492\n",
            "orderk_delaunay k = 2\n",
            "Simplexes sans filtration : 2539\n",
            "N_CPU_dispo utilisés :  -1\n",
            "2-simplices=2539\n",
            "Faces uniques: 796 (compression 7617→796)\n",
            "Arêtes uniques (u<v): 2470 (avant dédup 5078)\n",
            "MST faces: 795 arêtes, composantes estimées: 1\n",
            "[COMP-F:0] components=1, faces=796, points=80, RSS=247.6 MiB\n",
            "[COMP-F:1] comp 1/1 | faces=796, edges=795, Z_est≈24.8 KiB, RSS=247.7 MiB\n",
            "[PRUNE] leaves=796, classes=104, Z_pruned shape=(103, 4)\n",
            "[COMP-F:2] comp 1/1 done | cumul points labellisés=78 | conflits=2 | RSS=256.5 MiB\n",
            "Clusters finaux : 2 | bruit : 2 | RSS=256.5 MiB\n",
            "Unique labels: [-1  0  1]\n"
          ]
        }
      ],
      "source": [
        "import os\n",
        "import numpy as np\n",
        "\n",
        "workdir = os.environ.get(\"HGP_WORKDIR\", \"/content\")\n",
        "repo_root = os.path.join(workdir, \"HypergraphPercol\")\n",
        "os.environ[\"CGALDELAUNAY_ROOT\"] = os.path.join(repo_root, \"CGALDelaunay\")\n",
        "\n",
        "from hypergraphpercol import HypergraphPercol\n",
        "\n",
        "rng = np.random.default_rng(0)\n",
        "data = np.vstack([\n",
        "    rng.normal(loc=-2.0, scale=0.4, size=(40, 3)),\n",
        "    rng.normal(loc=2.0, scale=0.4, size=(40, 3)),\n",
        "])\n",
        "labels = HypergraphPercol(\n",
        "    data,\n",
        "    K=2,\n",
        "    min_cluster_size=20,\n",
        "    min_samples=None,\n",
        "    metric=\"euclidean\",\n",
        "    complex_chosen=\"auto\",\n",
        "    expZ=2,\n",
        "    precision=\"safe\",\n",
        "    verbeux=True,\n",
        "    cgal_root=os.environ[\"CGALDELAUNAY_ROOT\"],\n",
        ")\n",
        "print(\"Unique labels:\", np.unique(labels))\n"
      ]
    }
  ],
  "metadata": {
    "colab": {
      "name": "hgp-compil.ipynb",
      "provenance": [],
      "machine_shape": "hm",
      "runtime_attributes": {
        "runtime_version": "2025.07"
      }
    },
    "kernelspec": {
      "display_name": "Python 3",
      "name": "python3"
    },
    "language_info": {
      "name": "python",
      "version": "3.10"
    }
  },
  "nbformat": 4,
  "nbformat_minor": 5
}