{
 "cells": [
  {
   "cell_type": "markdown",
   "id": "816d2fe3",
   "metadata": {},
   "source": [
    "# HypergraphPercol Colab build\n",
    "\n",
    "This notebook reproduces the multi-stage Docker build pipeline inside a Google Colab runtime so that the `HypergraphPercol` package and its CGAL helpers are available directly from a Colab session."
   ]
  },
  {
   "cell_type": "markdown",
   "id": "4a061a3c",
   "metadata": {},
   "source": [
    "> **Execution order**\n",
    "> Run the cells sequentially from top to bottom in a fresh Colab runtime. The build relies on system packages, so restarting midway may require rerunning the earlier cells."
   ]
  },
  {
   "cell_type": "markdown",
   "id": "5252fee7",
   "metadata": {},
   "source": [
    "## 1. Install system dependencies\n",
    "\n",
    "The Dockerfile installs a series of Ubuntu packages that provide CGAL, Boost, Eigen and a modern build toolchain. We replicate the same setup here."
   ]
  },
  {
   "cell_type": "code",
   "execution_count": null,
   "id": "4bb48837",
   "metadata": {},
   "outputs": [],
   "source": [
    "%%bash\n",
    "set -euo pipefail\n",
    "apt-get update\n",
    "DEBIAN_FRONTEND=noninteractive apt-get install -y     build-essential     cmake     git     libtbb-dev     libcgal-dev     libboost-all-dev     libeigen3-dev\n"
   ]
  },
  {
   "cell_type": "markdown",
   "id": "9905c755",
   "metadata": {},
   "source": [
    "## 2. Upgrade `pip` and core Python build tooling\n",
    "\n",
    "The compiled extensions require an up-to-date Python build stack along with Cython and NumPy 1.26.x (force reinstalled to avoid mixed ABI issues on Colab). We also pre-install `cmake` through `pip` to match the Docker workflow."
   ]
  },
  {
   "cell_type": "code",
   "execution_count": null,
   "id": "806a99b9",
   "metadata": {},
   "outputs": [],
   "source": [
    "%%bash\n",
    "set -euo pipefail\n",
    "python3 -m pip install --upgrade pip setuptools wheel \"Cython>=3.0\" cmake\n",
    "python3 -m pip install --force-reinstall \"numpy==1.26.4\"\n"
   ]
  },
  {
   "cell_type": "markdown",
   "id": "51744462",
   "metadata": {},
   "source": [
    "## 3. Clone the required repositories\n",
    "\n",
    "We fetch both the main HypergraphPercol sources and the `cyminiball` dependency at the same revisions used by the Docker build."
   ]
  },
  {
   "cell_type": "code",
   "execution_count": null,
   "id": "02326ca4",
   "metadata": {},
   "outputs": [],
   "source": [
    "%%bash\n",
    "set -euo pipefail\n",
    "cd /content\n",
    "if [ -d HypergraphPercol ]; then\n",
    "    git -C HypergraphPercol pull --ff-only\n",
    "else\n",
    "    git clone https://github.com/Ludwig-H/HypergraphPercol.git\n",
    "fi\n",
    "if [ -d cyminiball ]; then\n",
    "    git -C cyminiball pull --ff-only\n",
    "else\n",
    "    git clone https://github.com/Ludwig-H/cyminiball.git\n",
    "fi\n"
   ]
  },
  {
   "cell_type": "markdown",
   "id": "8ab0687c",
   "metadata": {},
   "source": [
    "## 4. Build and install `cyminiball`\n",
    "\n",
    "The Docker image creates a wheel from source and installs it without build isolation. We mirror that approach so the same binary is present inside Colab."
   ]
  },
  {
   "cell_type": "code",
   "execution_count": null,
   "id": "c3bf2234",
   "metadata": {},
   "outputs": [],
   "source": [
    "%%bash\n",
    "set -euo pipefail\n",
    "mkdir -p /content/wheels\n",
    "cd /content/cyminiball\n",
    "python3 -m pip wheel --no-build-isolation --wheel-dir=/content/wheels .\n",
    "python3 -m pip install --force-reinstall --no-index --find-links=/content/wheels cyminiball\n"
   ]
  },
  {
   "cell_type": "markdown",
   "id": "92e29c47",
   "metadata": {},
   "source": [
    "## 5. Download the CGAL helper projects\n",
    "\n",
    "The helper script clones the six CGAL-based executables required by HypergraphPercol."
   ]
  },
  {
   "cell_type": "code",
   "execution_count": null,
   "id": "245a8645",
   "metadata": {},
   "outputs": [],
   "source": [
    "%%bash\n",
    "set -euo pipefail\n",
    "cd /content/HypergraphPercol\n",
    "python3 scripts/setup_cgal.py\n"
   ]
  },
  {
   "cell_type": "markdown",
   "id": "54d06acf",
   "metadata": {},
   "source": [
    "## 6. Patch (if necessary) and compile the CGAL executables\n",
    "\n",
    "The 3D helpers require an explicit pthread linkage, just like in the Dockerfile. Each project is then configured and built in Release mode."
   ]
  },
  {
   "cell_type": "code",
   "execution_count": null,
   "id": "cbede11e",
   "metadata": {},
   "outputs": [],
   "source": [
    "%%bash\n",
    "set -euo pipefail\n",
    "cd /content/HypergraphPercol/CGALDelaunay\n",
    "\n",
    "projects=(\n",
    "    EdgesCGALDelaunay2D\n",
    "    EdgesCGALDelaunay3D\n",
    "    EdgesCGALDelaunayND\n",
    "    EdgesCGALWeightedDelaunay2D\n",
    "    EdgesCGALWeightedDelaunay3D\n",
    "    EdgesCGALWeightedDelaunayND\n",
    ")\n",
    "\n",
    "for project in \"${projects[@]}\"; do\n",
    "    cmakelists=\"$project/CMakeLists.txt\"\n",
    "    if [ \"$project\" = \"EdgesCGALDelaunay3D\" ]; then\n",
    "        if ! grep -q 'target_link_libraries(EdgesCGALDelaunay3D PRIVATE pthread)' \"$cmakelists\"; then\n",
    "            sed -i '/^add_executable(EdgesCGALDelaunay3D/a target_link_libraries(EdgesCGALDelaunay3D PRIVATE pthread)' \"$cmakelists\"\n",
    "        fi\n",
    "    elif [ \"$project\" = \"EdgesCGALWeightedDelaunay3D\" ]; then\n",
    "        if ! grep -q 'target_link_libraries(EdgesCGALWeightedDelaunay3D PRIVATE pthread)' \"$cmakelists\"; then\n",
    "            sed -i '/^add_executable(EdgesCGALWeightedDelaunay3D/a target_link_libraries(EdgesCGALWeightedDelaunay3D PRIVATE pthread)' \"$cmakelists\"\n",
    "        fi\n",
    "    fi\n",
    "    cmake -S \"$project\" -B \"$project/build\" -DCMAKE_BUILD_TYPE=Release\n",
    "    cmake --build \"$project/build\" -j\"$(nproc)\"\n",
    "done\n"
   ]
  },
  {
   "cell_type": "markdown",
   "id": "526be758",
   "metadata": {},
   "source": [
    "## 7. Install Python runtime dependencies\n",
    "\n",
    "HypergraphPercol depends on scientific Python packages such as scikit-learn, HDBSCAN and GUDHI. Installing them upfront ensures that the later `pip install` step can reuse the locally built `cyminiball` wheel without attempting to rebuild it. Some of these wheels may opportunistically upgrade NumPy, so we immediately reinstall 1.26.4 afterwards to keep the ABI aligned with the compiled extensions."
   ]
  },
  {
   "cell_type": "code",
   "execution_count": null,
   "id": "7a31a665",
   "metadata": {},
   "outputs": [],
   "source": [
    "%%bash\n",
    "set -euo pipefail\n",
    "python3 -m pip install --upgrade scikit-learn hdbscan gudhi joblib threadpoolctl\n",
    "python3 -m pip install --force-reinstall \"numpy==1.26.4\""
   ]
  },
  {
   "cell_type": "markdown",
   "id": "e1e38301",
   "metadata": {},
   "source": [
    "## 8. Install HypergraphPercol from source\n",
    "\n",
    "Finally, install the package so that it becomes importable inside the notebook runtime. Using `--no-deps` keeps the `cyminiball` wheel we built earlier instead of asking `pip` to recompile it."
   ]
  },
  {
   "cell_type": "code",
   "execution_count": null,
   "id": "d6140339",
   "metadata": {},
   "outputs": [],
   "source": [
    "%%bash\n",
    "set -euo pipefail\n",
    "cd /content/HypergraphPercol\n",
    "python3 -m pip install --no-deps --force-reinstall .\n"
   ]
  },
  {
   "cell_type": "markdown",
   "id": "e1cfcfa2",
   "metadata": {},
   "source": [
    "## 9. Configure the runtime (optional) and validate the installation\n",
    "\n",
    "The package defaults to `/content/HypergraphPercol/CGALDelaunay` when `cgal_root` is not provided. The following cell sets the environment variable explicitly and performs a simple clustering run to ensure everything is functional."
   ]
  },
  {
   "cell_type": "code",
   "execution_count": null,
   "id": "84c2d789",
   "metadata": {},
   "outputs": [],
   "source": [
    "\n",
    "import os\n",
    "import numpy as np\n",
    "\n",
    "os.environ[\"CGALDELAUNAY_ROOT\"] = \"/content/HypergraphPercol/CGALDelaunay\"\n",
    "\n",
    "from hypergraphpercol import HypergraphPercol\n",
    "\n",
    "rng = np.random.default_rng(0)\n",
    "data = np.vstack([\n",
    "    rng.normal(loc=-2.0, scale=0.4, size=(40, 3)),\n",
    "    rng.normal(loc=2.0, scale=0.4, size=(40, 3)),\n",
    "])\n",
    "labels = HypergraphPercol(\n",
    "    data,\n",
    "    K=2,\n",
    "    min_cluster_size=20,\n",
    "    min_samples=10,\n",
    "    metric=\"euclidean\",\n",
    "    complex_chosen=\"auto\",\n",
    "    expZ=2,\n",
    "    precision=\"safe\",\n",
    "    verbeux=True,\n",
    "    cgal_root=os.environ[\"CGALDELAUNAY_ROOT\"],\n",
    ")\n",
    "print(\"Unique labels:\", np.unique(labels))\n"
   ]
  }
 ],
 "metadata": {
  "colab": {
   "name": "hgp-compil.ipynb",
   "provenance": []
  },
  "kernelspec": {
   "display_name": "Python 3",
   "language": "python",
   "name": "python3"
  },
  "language_info": {
   "name": "python",
   "version": "3.10"
  }
 },
 "nbformat": 4,
 "nbformat_minor": 5
}
