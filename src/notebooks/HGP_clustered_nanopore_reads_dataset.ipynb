{
  "nbformat": 4,
  "nbformat_minor": 0,
  "metadata": {
    "colab": {
      "provenance": [],
      "machine_shape": "hm"
    },
    "kernelspec": {
      "name": "python3",
      "display_name": "Python 3"
    },
    "language_info": {
      "name": "python"
    },
    "widgets": {
      "application/vnd.jupyter.widget-state+json": {
        "acbe2bc31be04048ae0ed225d1695f51": {
          "model_module": "@jupyter-widgets/controls",
          "model_name": "HBoxModel",
          "model_module_version": "1.5.0",
          "state": {
            "_dom_classes": [],
            "_model_module": "@jupyter-widgets/controls",
            "_model_module_version": "1.5.0",
            "_model_name": "HBoxModel",
            "_view_count": null,
            "_view_module": "@jupyter-widgets/controls",
            "_view_module_version": "1.5.0",
            "_view_name": "HBoxView",
            "box_style": "",
            "children": [
              "IPY_MODEL_143760fcb84e45b58aed3eb0ac254b5e",
              "IPY_MODEL_c11bbc90e9634694a9cef539dbf87985",
              "IPY_MODEL_70dd9d23f46540fea00b0c41a7810b08"
            ],
            "layout": "IPY_MODEL_41b9f32d71a64b34a2cb3c1a3583619b"
          }
        },
        "143760fcb84e45b58aed3eb0ac254b5e": {
          "model_module": "@jupyter-widgets/controls",
          "model_name": "HTMLModel",
          "model_module_version": "1.5.0",
          "state": {
            "_dom_classes": [],
            "_model_module": "@jupyter-widgets/controls",
            "_model_module_version": "1.5.0",
            "_model_name": "HTMLModel",
            "_view_count": null,
            "_view_module": "@jupyter-widgets/controls",
            "_view_module_version": "1.5.0",
            "_view_name": "HTMLView",
            "description": "",
            "description_tooltip": null,
            "layout": "IPY_MODEL_a92759dfb376491686429dba98f968f6",
            "placeholder": "​",
            "style": "IPY_MODEL_be4f4411f33846eda00ec3ec5803e267",
            "value": "MinHash (parallel):   0%"
          }
        },
        "c11bbc90e9634694a9cef539dbf87985": {
          "model_module": "@jupyter-widgets/controls",
          "model_name": "FloatProgressModel",
          "model_module_version": "1.5.0",
          "state": {
            "_dom_classes": [],
            "_model_module": "@jupyter-widgets/controls",
            "_model_module_version": "1.5.0",
            "_model_name": "FloatProgressModel",
            "_view_count": null,
            "_view_module": "@jupyter-widgets/controls",
            "_view_module_version": "1.5.0",
            "_view_name": "ProgressView",
            "bar_style": "danger",
            "description": "",
            "description_tooltip": null,
            "layout": "IPY_MODEL_a6024e3e49a34419bdded6723045c4d8",
            "max": 269709,
            "min": 0,
            "orientation": "horizontal",
            "style": "IPY_MODEL_b45ba87d3fe942159398207949d2aeb8",
            "value": 0
          }
        },
        "70dd9d23f46540fea00b0c41a7810b08": {
          "model_module": "@jupyter-widgets/controls",
          "model_name": "HTMLModel",
          "model_module_version": "1.5.0",
          "state": {
            "_dom_classes": [],
            "_model_module": "@jupyter-widgets/controls",
            "_model_module_version": "1.5.0",
            "_model_name": "HTMLModel",
            "_view_count": null,
            "_view_module": "@jupyter-widgets/controls",
            "_view_module_version": "1.5.0",
            "_view_name": "HTMLView",
            "description": "",
            "description_tooltip": null,
            "layout": "IPY_MODEL_2d0a7a2825de4df294df86ba0f109e8f",
            "placeholder": "​",
            "style": "IPY_MODEL_8d1d9e7582fb4fccacc5ce6743d019e9",
            "value": " 0/269709 [02:25&lt;?, ?read/s]"
          }
        },
        "41b9f32d71a64b34a2cb3c1a3583619b": {
          "model_module": "@jupyter-widgets/base",
          "model_name": "LayoutModel",
          "model_module_version": "1.2.0",
          "state": {
            "_model_module": "@jupyter-widgets/base",
            "_model_module_version": "1.2.0",
            "_model_name": "LayoutModel",
            "_view_count": null,
            "_view_module": "@jupyter-widgets/base",
            "_view_module_version": "1.2.0",
            "_view_name": "LayoutView",
            "align_content": null,
            "align_items": null,
            "align_self": null,
            "border": null,
            "bottom": null,
            "display": null,
            "flex": null,
            "flex_flow": null,
            "grid_area": null,
            "grid_auto_columns": null,
            "grid_auto_flow": null,
            "grid_auto_rows": null,
            "grid_column": null,
            "grid_gap": null,
            "grid_row": null,
            "grid_template_areas": null,
            "grid_template_columns": null,
            "grid_template_rows": null,
            "height": null,
            "justify_content": null,
            "justify_items": null,
            "left": null,
            "margin": null,
            "max_height": null,
            "max_width": null,
            "min_height": null,
            "min_width": null,
            "object_fit": null,
            "object_position": null,
            "order": null,
            "overflow": null,
            "overflow_x": null,
            "overflow_y": null,
            "padding": null,
            "right": null,
            "top": null,
            "visibility": null,
            "width": null
          }
        },
        "a92759dfb376491686429dba98f968f6": {
          "model_module": "@jupyter-widgets/base",
          "model_name": "LayoutModel",
          "model_module_version": "1.2.0",
          "state": {
            "_model_module": "@jupyter-widgets/base",
            "_model_module_version": "1.2.0",
            "_model_name": "LayoutModel",
            "_view_count": null,
            "_view_module": "@jupyter-widgets/base",
            "_view_module_version": "1.2.0",
            "_view_name": "LayoutView",
            "align_content": null,
            "align_items": null,
            "align_self": null,
            "border": null,
            "bottom": null,
            "display": null,
            "flex": null,
            "flex_flow": null,
            "grid_area": null,
            "grid_auto_columns": null,
            "grid_auto_flow": null,
            "grid_auto_rows": null,
            "grid_column": null,
            "grid_gap": null,
            "grid_row": null,
            "grid_template_areas": null,
            "grid_template_columns": null,
            "grid_template_rows": null,
            "height": null,
            "justify_content": null,
            "justify_items": null,
            "left": null,
            "margin": null,
            "max_height": null,
            "max_width": null,
            "min_height": null,
            "min_width": null,
            "object_fit": null,
            "object_position": null,
            "order": null,
            "overflow": null,
            "overflow_x": null,
            "overflow_y": null,
            "padding": null,
            "right": null,
            "top": null,
            "visibility": null,
            "width": null
          }
        },
        "be4f4411f33846eda00ec3ec5803e267": {
          "model_module": "@jupyter-widgets/controls",
          "model_name": "DescriptionStyleModel",
          "model_module_version": "1.5.0",
          "state": {
            "_model_module": "@jupyter-widgets/controls",
            "_model_module_version": "1.5.0",
            "_model_name": "DescriptionStyleModel",
            "_view_count": null,
            "_view_module": "@jupyter-widgets/base",
            "_view_module_version": "1.2.0",
            "_view_name": "StyleView",
            "description_width": ""
          }
        },
        "a6024e3e49a34419bdded6723045c4d8": {
          "model_module": "@jupyter-widgets/base",
          "model_name": "LayoutModel",
          "model_module_version": "1.2.0",
          "state": {
            "_model_module": "@jupyter-widgets/base",
            "_model_module_version": "1.2.0",
            "_model_name": "LayoutModel",
            "_view_count": null,
            "_view_module": "@jupyter-widgets/base",
            "_view_module_version": "1.2.0",
            "_view_name": "LayoutView",
            "align_content": null,
            "align_items": null,
            "align_self": null,
            "border": null,
            "bottom": null,
            "display": null,
            "flex": null,
            "flex_flow": null,
            "grid_area": null,
            "grid_auto_columns": null,
            "grid_auto_flow": null,
            "grid_auto_rows": null,
            "grid_column": null,
            "grid_gap": null,
            "grid_row": null,
            "grid_template_areas": null,
            "grid_template_columns": null,
            "grid_template_rows": null,
            "height": null,
            "justify_content": null,
            "justify_items": null,
            "left": null,
            "margin": null,
            "max_height": null,
            "max_width": null,
            "min_height": null,
            "min_width": null,
            "object_fit": null,
            "object_position": null,
            "order": null,
            "overflow": null,
            "overflow_x": null,
            "overflow_y": null,
            "padding": null,
            "right": null,
            "top": null,
            "visibility": null,
            "width": null
          }
        },
        "b45ba87d3fe942159398207949d2aeb8": {
          "model_module": "@jupyter-widgets/controls",
          "model_name": "ProgressStyleModel",
          "model_module_version": "1.5.0",
          "state": {
            "_model_module": "@jupyter-widgets/controls",
            "_model_module_version": "1.5.0",
            "_model_name": "ProgressStyleModel",
            "_view_count": null,
            "_view_module": "@jupyter-widgets/base",
            "_view_module_version": "1.2.0",
            "_view_name": "StyleView",
            "bar_color": null,
            "description_width": ""
          }
        },
        "2d0a7a2825de4df294df86ba0f109e8f": {
          "model_module": "@jupyter-widgets/base",
          "model_name": "LayoutModel",
          "model_module_version": "1.2.0",
          "state": {
            "_model_module": "@jupyter-widgets/base",
            "_model_module_version": "1.2.0",
            "_model_name": "LayoutModel",
            "_view_count": null,
            "_view_module": "@jupyter-widgets/base",
            "_view_module_version": "1.2.0",
            "_view_name": "LayoutView",
            "align_content": null,
            "align_items": null,
            "align_self": null,
            "border": null,
            "bottom": null,
            "display": null,
            "flex": null,
            "flex_flow": null,
            "grid_area": null,
            "grid_auto_columns": null,
            "grid_auto_flow": null,
            "grid_auto_rows": null,
            "grid_column": null,
            "grid_gap": null,
            "grid_row": null,
            "grid_template_areas": null,
            "grid_template_columns": null,
            "grid_template_rows": null,
            "height": null,
            "justify_content": null,
            "justify_items": null,
            "left": null,
            "margin": null,
            "max_height": null,
            "max_width": null,
            "min_height": null,
            "min_width": null,
            "object_fit": null,
            "object_position": null,
            "order": null,
            "overflow": null,
            "overflow_x": null,
            "overflow_y": null,
            "padding": null,
            "right": null,
            "top": null,
            "visibility": null,
            "width": null
          }
        },
        "8d1d9e7582fb4fccacc5ce6743d019e9": {
          "model_module": "@jupyter-widgets/controls",
          "model_name": "DescriptionStyleModel",
          "model_module_version": "1.5.0",
          "state": {
            "_model_module": "@jupyter-widgets/controls",
            "_model_module_version": "1.5.0",
            "_model_name": "DescriptionStyleModel",
            "_view_count": null,
            "_view_module": "@jupyter-widgets/base",
            "_view_module_version": "1.2.0",
            "_view_name": "StyleView",
            "description_width": ""
          }
        },
        "b9733fe1b36445b0a8690fd546cc0ecb": {
          "model_module": "@jupyter-widgets/controls",
          "model_name": "HBoxModel",
          "model_module_version": "1.5.0",
          "state": {
            "_dom_classes": [],
            "_model_module": "@jupyter-widgets/controls",
            "_model_module_version": "1.5.0",
            "_model_name": "HBoxModel",
            "_view_count": null,
            "_view_module": "@jupyter-widgets/controls",
            "_view_module_version": "1.5.0",
            "_view_name": "HBoxView",
            "box_style": "",
            "children": [
              "IPY_MODEL_735d78bba34c4385b1d685e89976215c",
              "IPY_MODEL_cfe1e268f76a46558f3b2b948007980f",
              "IPY_MODEL_10781cd2c115496ea686052408cffe38"
            ],
            "layout": "IPY_MODEL_fa0bad125d3c4815bfa9ac11e187cf7e"
          }
        },
        "735d78bba34c4385b1d685e89976215c": {
          "model_module": "@jupyter-widgets/controls",
          "model_name": "HTMLModel",
          "model_module_version": "1.5.0",
          "state": {
            "_dom_classes": [],
            "_model_module": "@jupyter-widgets/controls",
            "_model_module_version": "1.5.0",
            "_model_name": "HTMLModel",
            "_view_count": null,
            "_view_module": "@jupyter-widgets/controls",
            "_view_module_version": "1.5.0",
            "_view_name": "HTMLView",
            "description": "",
            "description_tooltip": null,
            "layout": "IPY_MODEL_ef888436d7a44bf7b4585fe88fe881cb",
            "placeholder": "​",
            "style": "IPY_MODEL_9fd7229671254890bdc879c83e214e3b",
            "value": "100%"
          }
        },
        "cfe1e268f76a46558f3b2b948007980f": {
          "model_module": "@jupyter-widgets/controls",
          "model_name": "FloatProgressModel",
          "model_module_version": "1.5.0",
          "state": {
            "_dom_classes": [],
            "_model_module": "@jupyter-widgets/controls",
            "_model_module_version": "1.5.0",
            "_model_name": "FloatProgressModel",
            "_view_count": null,
            "_view_module": "@jupyter-widgets/controls",
            "_view_module_version": "1.5.0",
            "_view_name": "ProgressView",
            "bar_style": "success",
            "description": "",
            "description_tooltip": null,
            "layout": "IPY_MODEL_4ce38c64fc8c4254b66dd573d739a71f",
            "max": 269709,
            "min": 0,
            "orientation": "horizontal",
            "style": "IPY_MODEL_39f6f033d1b940629256975d11c24a18",
            "value": 269709
          }
        },
        "10781cd2c115496ea686052408cffe38": {
          "model_module": "@jupyter-widgets/controls",
          "model_name": "HTMLModel",
          "model_module_version": "1.5.0",
          "state": {
            "_dom_classes": [],
            "_model_module": "@jupyter-widgets/controls",
            "_model_module_version": "1.5.0",
            "_model_name": "HTMLModel",
            "_view_count": null,
            "_view_module": "@jupyter-widgets/controls",
            "_view_module_version": "1.5.0",
            "_view_name": "HTMLView",
            "description": "",
            "description_tooltip": null,
            "layout": "IPY_MODEL_c2f5a1ec29734ba4939cee080d349f31",
            "placeholder": "​",
            "style": "IPY_MODEL_ebfa4f4f72d04fb3a45950c6ac290713",
            "value": " 269709/269709 [02:24&lt;00:00, 2047.34it/s]"
          }
        },
        "fa0bad125d3c4815bfa9ac11e187cf7e": {
          "model_module": "@jupyter-widgets/base",
          "model_name": "LayoutModel",
          "model_module_version": "1.2.0",
          "state": {
            "_model_module": "@jupyter-widgets/base",
            "_model_module_version": "1.2.0",
            "_model_name": "LayoutModel",
            "_view_count": null,
            "_view_module": "@jupyter-widgets/base",
            "_view_module_version": "1.2.0",
            "_view_name": "LayoutView",
            "align_content": null,
            "align_items": null,
            "align_self": null,
            "border": null,
            "bottom": null,
            "display": null,
            "flex": null,
            "flex_flow": null,
            "grid_area": null,
            "grid_auto_columns": null,
            "grid_auto_flow": null,
            "grid_auto_rows": null,
            "grid_column": null,
            "grid_gap": null,
            "grid_row": null,
            "grid_template_areas": null,
            "grid_template_columns": null,
            "grid_template_rows": null,
            "height": null,
            "justify_content": null,
            "justify_items": null,
            "left": null,
            "margin": null,
            "max_height": null,
            "max_width": null,
            "min_height": null,
            "min_width": null,
            "object_fit": null,
            "object_position": null,
            "order": null,
            "overflow": null,
            "overflow_x": null,
            "overflow_y": null,
            "padding": null,
            "right": null,
            "top": null,
            "visibility": null,
            "width": null
          }
        },
        "ef888436d7a44bf7b4585fe88fe881cb": {
          "model_module": "@jupyter-widgets/base",
          "model_name": "LayoutModel",
          "model_module_version": "1.2.0",
          "state": {
            "_model_module": "@jupyter-widgets/base",
            "_model_module_version": "1.2.0",
            "_model_name": "LayoutModel",
            "_view_count": null,
            "_view_module": "@jupyter-widgets/base",
            "_view_module_version": "1.2.0",
            "_view_name": "LayoutView",
            "align_content": null,
            "align_items": null,
            "align_self": null,
            "border": null,
            "bottom": null,
            "display": null,
            "flex": null,
            "flex_flow": null,
            "grid_area": null,
            "grid_auto_columns": null,
            "grid_auto_flow": null,
            "grid_auto_rows": null,
            "grid_column": null,
            "grid_gap": null,
            "grid_row": null,
            "grid_template_areas": null,
            "grid_template_columns": null,
            "grid_template_rows": null,
            "height": null,
            "justify_content": null,
            "justify_items": null,
            "left": null,
            "margin": null,
            "max_height": null,
            "max_width": null,
            "min_height": null,
            "min_width": null,
            "object_fit": null,
            "object_position": null,
            "order": null,
            "overflow": null,
            "overflow_x": null,
            "overflow_y": null,
            "padding": null,
            "right": null,
            "top": null,
            "visibility": null,
            "width": null
          }
        },
        "9fd7229671254890bdc879c83e214e3b": {
          "model_module": "@jupyter-widgets/controls",
          "model_name": "DescriptionStyleModel",
          "model_module_version": "1.5.0",
          "state": {
            "_model_module": "@jupyter-widgets/controls",
            "_model_module_version": "1.5.0",
            "_model_name": "DescriptionStyleModel",
            "_view_count": null,
            "_view_module": "@jupyter-widgets/base",
            "_view_module_version": "1.2.0",
            "_view_name": "StyleView",
            "description_width": ""
          }
        },
        "4ce38c64fc8c4254b66dd573d739a71f": {
          "model_module": "@jupyter-widgets/base",
          "model_name": "LayoutModel",
          "model_module_version": "1.2.0",
          "state": {
            "_model_module": "@jupyter-widgets/base",
            "_model_module_version": "1.2.0",
            "_model_name": "LayoutModel",
            "_view_count": null,
            "_view_module": "@jupyter-widgets/base",
            "_view_module_version": "1.2.0",
            "_view_name": "LayoutView",
            "align_content": null,
            "align_items": null,
            "align_self": null,
            "border": null,
            "bottom": null,
            "display": null,
            "flex": null,
            "flex_flow": null,
            "grid_area": null,
            "grid_auto_columns": null,
            "grid_auto_flow": null,
            "grid_auto_rows": null,
            "grid_column": null,
            "grid_gap": null,
            "grid_row": null,
            "grid_template_areas": null,
            "grid_template_columns": null,
            "grid_template_rows": null,
            "height": null,
            "justify_content": null,
            "justify_items": null,
            "left": null,
            "margin": null,
            "max_height": null,
            "max_width": null,
            "min_height": null,
            "min_width": null,
            "object_fit": null,
            "object_position": null,
            "order": null,
            "overflow": null,
            "overflow_x": null,
            "overflow_y": null,
            "padding": null,
            "right": null,
            "top": null,
            "visibility": null,
            "width": null
          }
        },
        "39f6f033d1b940629256975d11c24a18": {
          "model_module": "@jupyter-widgets/controls",
          "model_name": "ProgressStyleModel",
          "model_module_version": "1.5.0",
          "state": {
            "_model_module": "@jupyter-widgets/controls",
            "_model_module_version": "1.5.0",
            "_model_name": "ProgressStyleModel",
            "_view_count": null,
            "_view_module": "@jupyter-widgets/base",
            "_view_module_version": "1.2.0",
            "_view_name": "StyleView",
            "bar_color": null,
            "description_width": ""
          }
        },
        "c2f5a1ec29734ba4939cee080d349f31": {
          "model_module": "@jupyter-widgets/base",
          "model_name": "LayoutModel",
          "model_module_version": "1.2.0",
          "state": {
            "_model_module": "@jupyter-widgets/base",
            "_model_module_version": "1.2.0",
            "_model_name": "LayoutModel",
            "_view_count": null,
            "_view_module": "@jupyter-widgets/base",
            "_view_module_version": "1.2.0",
            "_view_name": "LayoutView",
            "align_content": null,
            "align_items": null,
            "align_self": null,
            "border": null,
            "bottom": null,
            "display": null,
            "flex": null,
            "flex_flow": null,
            "grid_area": null,
            "grid_auto_columns": null,
            "grid_auto_flow": null,
            "grid_auto_rows": null,
            "grid_column": null,
            "grid_gap": null,
            "grid_row": null,
            "grid_template_areas": null,
            "grid_template_columns": null,
            "grid_template_rows": null,
            "height": null,
            "justify_content": null,
            "justify_items": null,
            "left": null,
            "margin": null,
            "max_height": null,
            "max_width": null,
            "min_height": null,
            "min_width": null,
            "object_fit": null,
            "object_position": null,
            "order": null,
            "overflow": null,
            "overflow_x": null,
            "overflow_y": null,
            "padding": null,
            "right": null,
            "top": null,
            "visibility": null,
            "width": null
          }
        },
        "ebfa4f4f72d04fb3a45950c6ac290713": {
          "model_module": "@jupyter-widgets/controls",
          "model_name": "DescriptionStyleModel",
          "model_module_version": "1.5.0",
          "state": {
            "_model_module": "@jupyter-widgets/controls",
            "_model_module_version": "1.5.0",
            "_model_name": "DescriptionStyleModel",
            "_view_count": null,
            "_view_module": "@jupyter-widgets/base",
            "_view_module_version": "1.2.0",
            "_view_name": "StyleView",
            "description_width": ""
          }
        }
      }
    }
  },
  "cells": [
    {
      "cell_type": "markdown",
      "source": [
        "# Installation de HypergraphPercol"
      ],
      "metadata": {
        "id": "JS4m7zqZubam"
      }
    },
    {
      "cell_type": "code",
      "source": [
        "%%bash\n",
        "# Colab: paquets système pour CGAL/TBB/CMake\n",
        "apt-get update -qq\n",
        "apt-get install -y -qq build-essential cmake libcgal-dev libtbb-dev libtbbmalloc2 \\\n",
        "    libgmp-dev libmpfr-dev libeigen3-dev"
      ],
      "metadata": {
        "id": "aeK58mkguVvf"
      },
      "execution_count": null,
      "outputs": []
    },
    {
      "cell_type": "code",
      "source": [
        "!pip install -q --upgrade pip setuptools wheel Cython cmake jedi"
      ],
      "metadata": {
        "id": "Jt8cOxlvuX1v"
      },
      "execution_count": null,
      "outputs": []
    },
    {
      "cell_type": "code",
      "source": [
        "%%bash\n",
        "set -euo pipefail\n",
        "WORKDIR=\"${HGP_WORKDIR:-/content}\"\n",
        "mkdir -p \"${WORKDIR}\"\n",
        "cd \"${WORKDIR}\"\n",
        "if [ -d HypergraphPercol ]; then\n",
        "    git -C HypergraphPercol pull --ff-only\n",
        "else\n",
        "    git clone https://github.com/Ludwig-H/HypergraphPercol.git\n",
        "fi\n",
        "if [ -d cyminiball ]; then\n",
        "    git -C cyminiball pull --ff-only\n",
        "else\n",
        "    git clone https://github.com/Ludwig-H/cyminiball.git\n",
        "fi\n"
      ],
      "metadata": {
        "id": "NLiVDYDsuX9J"
      },
      "execution_count": null,
      "outputs": []
    },
    {
      "cell_type": "code",
      "source": [
        "%%bash\n",
        "set -euo pipefail\n",
        "WORKDIR=\"${HGP_WORKDIR:-/content}\"\n",
        "mkdir -p \"${WORKDIR}/wheels\"\n",
        "cd \"${WORKDIR}/cyminiball\"\n",
        "python3 -m pip wheel --no-build-isolation --no-deps --wheel-dir=\"${WORKDIR}/wheels\" .\n",
        "python3 -m pip install --force-reinstall --no-deps --no-index --find-links=\"${WORKDIR}/wheels\" cyminiball\n",
        "# Le \"--no-deps\" indispensable pour que numpy ne se télécharge pas en version 2.3.4, créant des problèmes de compatibilité...\n"
      ],
      "metadata": {
        "id": "bl579jqLuYAG"
      },
      "execution_count": null,
      "outputs": []
    },
    {
      "cell_type": "code",
      "source": [
        "%%bash\n",
        "set -euo pipefail\n",
        "WORKDIR=\"${HGP_WORKDIR:-/content}\"\n",
        "cd \"${WORKDIR}/HypergraphPercol\"\n",
        "python3 scripts/setup_cgal.py\n"
      ],
      "metadata": {
        "id": "OJn6BRqluYC_"
      },
      "execution_count": null,
      "outputs": []
    },
    {
      "cell_type": "code",
      "source": [
        "%%bash\n",
        "set -euo pipefail\n",
        "WORKDIR=\"${HGP_WORKDIR:-/content}\"\n",
        "cd \"${WORKDIR}/HypergraphPercol/CGALDelaunay\"\n",
        "\n",
        "projects=(\n",
        "    EdgesCGALDelaunay2D\n",
        "    EdgesCGALDelaunay3D\n",
        "    EdgesCGALDelaunayND\n",
        "    EdgesCGALWeightedDelaunay2D\n",
        "    EdgesCGALWeightedDelaunay3D\n",
        "    EdgesCGALWeightedDelaunayND\n",
        ")\n",
        "\n",
        "for project in \"${projects[@]}\"; do\n",
        "    cmake -S \"${project}\" -B \"${project}/build\" -DCMAKE_BUILD_TYPE=Release\n",
        "    cmake --build \"${project}/build\" --config Release\n",
        "    cmake --install \"${project}/build\" --prefix \"${WORKDIR}/HypergraphPercol\"\n",
        "done\n"
      ],
      "metadata": {
        "id": "K4Jt04NKuYFv"
      },
      "execution_count": null,
      "outputs": []
    },
    {
      "cell_type": "code",
      "source": [
        "%%bash\n",
        "set -euo pipefail\n",
        "WORKDIR=\"${HGP_WORKDIR:-/content}\"\n",
        "cd \"${WORKDIR}/HypergraphPercol\"\n",
        "python3 -m pip install --no-deps --force-reinstall .\n"
      ],
      "metadata": {
        "id": "6onzntiIuYIb"
      },
      "execution_count": null,
      "outputs": []
    },
    {
      "cell_type": "code",
      "source": [
        "workdir = os.environ.get(\"HGP_WORKDIR\", \"/content\")\n",
        "repo_root = os.path.join(workdir, \"HypergraphPercol\")\n",
        "os.environ[\"CGALDELAUNAY_ROOT\"] = os.path.join(repo_root, \"CGALDelaunay\")\n",
        "\n",
        "from hypergraphpercol import HypergraphPercol"
      ],
      "metadata": {
        "id": "z5hYAD5zuYLV"
      },
      "execution_count": null,
      "outputs": []
    },
    {
      "cell_type": "markdown",
      "source": [
        "# Application de HypergraphPercol aux *reads* Nanopore"
      ],
      "metadata": {
        "id": "Ey2S3Dhsu1WJ"
      }
    },
    {
      "cell_type": "code",
      "execution_count": null,
      "metadata": {
        "colab": {
          "base_uri": "https://localhost:8080/"
        },
        "id": "2ow18ktSxR4n",
        "outputId": "1f681f48-4adb-493f-c0ea-cd00c9c6afc9"
      },
      "outputs": [
        {
          "output_type": "stream",
          "name": "stdout",
          "text": [
            "\u001b[?25l   \u001b[90m━━━━━━━━━━━━━━━━━━━━━━━━━━━━━━━━━━━━━━━━\u001b[0m \u001b[32m0.0/89.2 kB\u001b[0m \u001b[31m?\u001b[0m eta \u001b[36m-:--:--\u001b[0m\r\u001b[2K   \u001b[90m━━━━━━━━━━━━━━━━━━━━━━━━━━━━━━━━━━━━━━━━\u001b[0m \u001b[32m89.2/89.2 kB\u001b[0m \u001b[31m6.4 MB/s\u001b[0m eta \u001b[36m0:00:00\u001b[0m\n",
            "\u001b[?25h\u001b[?25l   \u001b[90m━━━━━━━━━━━━━━━━━━━━━━━━━━━━━━━━━━━━━━━━\u001b[0m \u001b[32m0.0/397.5 kB\u001b[0m \u001b[31m?\u001b[0m eta \u001b[36m-:--:--\u001b[0m\r\u001b[2K   \u001b[90m━━━━━━━━━━━━━━━━━━━━━━━━━━━━━━━━━━━━━━━━\u001b[0m \u001b[32m397.5/397.5 kB\u001b[0m \u001b[31m28.8 MB/s\u001b[0m eta \u001b[36m0:00:00\u001b[0m\n",
            "\u001b[?25hTéléchargement https://raw.githubusercontent.com/microsoft/clustered-nanopore-reads-dataset/main/Centers.txt -> data/Centers.txt\n",
            "Téléchargement https://raw.githubusercontent.com/microsoft/clustered-nanopore-reads-dataset/main/Clusters.txt -> data/Clusters.txt\n"
          ]
        }
      ],
      "source": [
        "# @title Setup: dépendances et données\n",
        "!pip -q install datasketch edlib numpy pandas scipy scikit-learn tqdm pyarrow\n",
        "\n",
        "import os, sys, re, math, random, itertools, json\n",
        "from pathlib import Path\n",
        "\n",
        "DATA_DIR = Path(\"data\")\n",
        "DATA_DIR.mkdir(exist_ok=True, parents=True)\n",
        "\n",
        "# Raw URLs du dépôt Microsoft (dataset seul)\n",
        "CENTERS_URL  = \"https://raw.githubusercontent.com/microsoft/clustered-nanopore-reads-dataset/main/Centers.txt\"\n",
        "CLUSTERS_URL = \"https://raw.githubusercontent.com/microsoft/clustered-nanopore-reads-dataset/main/Clusters.txt\"\n",
        "\n",
        "def download(url, dst):\n",
        "    import urllib.request\n",
        "    if not Path(dst).exists():\n",
        "        print(f\"Téléchargement {url} -> {dst}\")\n",
        "        urllib.request.urlretrieve(url, dst)\n",
        "    else:\n",
        "        print(f\"Déjà présent: {dst}\")\n",
        "\n",
        "download(CENTERS_URL,  DATA_DIR/\"Centers.txt\")\n",
        "download(CLUSTERS_URL, DATA_DIR/\"Clusters.txt\")\n"
      ]
    },
    {
      "cell_type": "code",
      "source": [
        "# @title Parsing des fichiers { vertical-output: true }\n",
        "from typing import List, Tuple\n",
        "import numpy as np\n",
        "import pandas as pd\n",
        "\n",
        "def parse_clusters(clusters_path: Path) -> Tuple[List[str], np.ndarray]:\n",
        "    reads = []\n",
        "    labels = []\n",
        "    label  = -1\n",
        "    with open(clusters_path, \"r\") as f:\n",
        "        for raw in f:\n",
        "            s = raw.strip()\n",
        "            if not s:\n",
        "                continue\n",
        "            if s.startswith(\"=\"):           # lignes de séparation \"====\"\n",
        "                label += 1\n",
        "                continue\n",
        "            reads.append(s)\n",
        "            labels.append(label)\n",
        "    return reads, np.array(labels, dtype=np.int32)\n",
        "\n",
        "reads, labels = parse_clusters(DATA_DIR/\"Clusters.txt\")\n",
        "n_reads = len(reads)\n",
        "n_clusters_seen = labels.max() + 1\n",
        "print(f\"{n_reads} reads, {n_clusters_seen} clusters (certains peuvent être vides).\")\n",
        "\n",
        "# Option: charger Centers pour évaluation ultérieure\n",
        "centers = [line.strip() for line in open(DATA_DIR/'Centers.txt') if line.strip()]\n",
        "print(f\"{len(centers)} centers de longueur attendue 110.\")\n"
      ],
      "metadata": {
        "colab": {
          "base_uri": "https://localhost:8080/"
        },
        "id": "i9VWZdy4xb4y",
        "outputId": "73d8704d-39fc-4e08-db45-ae690549b1f1"
      },
      "execution_count": null,
      "outputs": [
        {
          "output_type": "stream",
          "name": "stdout",
          "text": [
            "269709 reads, 10000 clusters (certains peuvent être vides).\n",
            "10000 centers de longueur attendue 110.\n"
          ]
        }
      ]
    },
    {
      "cell_type": "code",
      "source": [
        "# @title Construction des MinHash (k-mers) et LSH  { vertical-output: true }\n",
        "from datasketch import MinHash, MinHashLSH\n",
        "# from tqdm import tqdm\n",
        "\n",
        "NUM_PERM      = 128   # taille du sketch MinHash\n",
        "KMER          = 15    # k-mer size pour 110 nt\n",
        "LSH_THRESHOLD = 0.35  # seuil Jaccard approximatif → candidats\n",
        "SEED          = 1337\n",
        "\n",
        "random.seed(SEED)\n",
        "\n",
        "def kmers(seq: str, k: int):\n",
        "    L = len(seq)\n",
        "    if L < k:\n",
        "        return []\n",
        "    return [seq[i:i+k] for i in range(L - k + 1)]\n",
        "\n",
        "# Dépendances (une seule fois dans ton notebook)\n",
        "!pip -q install joblib tqdm tqdm-joblib\n",
        "\n",
        "from joblib import Parallel, delayed, cpu_count\n",
        "from tqdm.auto import tqdm\n",
        "try:\n",
        "    from tqdm_joblib import tqdm_joblib\n",
        "except ImportError:\n",
        "    tqdm_joblib = None  # fallback séquentiel si non dispo\n",
        "\n",
        "def build_minhash_for_reads(reads, k=KMER, num_perm=NUM_PERM, n_jobs=None, batch_size=64):\n",
        "    \"\"\"\n",
        "    Parallélise la construction des MinHash avec joblib.\n",
        "    - n_jobs: nb de workers (par défaut: tous les CPU).\n",
        "    - batch_size: taille des lots envoyés à chaque worker (réduit l'overhead pickle).\n",
        "    Garde l'ordre des reads dans la sortie.\n",
        "    \"\"\"\n",
        "\n",
        "    if n_jobs is None:\n",
        "        n_jobs = cpu_count()\n",
        "\n",
        "    def _one_read_to_minhash(s: str):\n",
        "        m = MinHash(num_perm=num_perm, seed=SEED)\n",
        "        for kmer in kmers(s, k):\n",
        "            m.update(kmer.encode(\"utf8\"))\n",
        "        return m\n",
        "\n",
        "    # Si tqdm_joblib est dispo, on a une barre qui avance au fil des batches;\n",
        "    # sinon, on fait une boucle séquentielle avec tqdm standard.\n",
        "    if n_jobs == 1 or tqdm_joblib is None:\n",
        "        # Fallback propre (utile si environnement léger)\n",
        "        return [_one_read_to_minhash(s) for s in tqdm(reads, desc=\"MinHash\", unit=\"read\")]\n",
        "    else:\n",
        "        with tqdm_joblib(tqdm(total=len(reads), desc=\"MinHash (parallel)\", unit=\"read\")):\n",
        "            sketches = Parallel(\n",
        "                n_jobs=n_jobs,\n",
        "                prefer=\"processes\",  # hashing CPU-bound -> process pool\n",
        "                batch_size=batch_size\n",
        "            )(delayed(_one_read_to_minhash)(s) for s in reads)\n",
        "        return sketches\n",
        "\n",
        "\n",
        "sketches = build_minhash_for_reads(reads, k=KMER, num_perm=NUM_PERM)\n",
        "\n",
        "# LSH pour requêter des voisins candidats\n",
        "lsh = MinHashLSH(threshold=LSH_THRESHOLD, num_perm=NUM_PERM)\n",
        "for i, m in enumerate(sketches):\n",
        "    lsh.insert(i, m)\n",
        "print(\"Index LSH construit.\")\n"
      ],
      "metadata": {
        "colab": {
          "base_uri": "https://localhost:8080/",
          "height": 99,
          "referenced_widgets": [
            "acbe2bc31be04048ae0ed225d1695f51",
            "143760fcb84e45b58aed3eb0ac254b5e",
            "c11bbc90e9634694a9cef539dbf87985",
            "70dd9d23f46540fea00b0c41a7810b08",
            "41b9f32d71a64b34a2cb3c1a3583619b",
            "a92759dfb376491686429dba98f968f6",
            "be4f4411f33846eda00ec3ec5803e267",
            "a6024e3e49a34419bdded6723045c4d8",
            "b45ba87d3fe942159398207949d2aeb8",
            "2d0a7a2825de4df294df86ba0f109e8f",
            "8d1d9e7582fb4fccacc5ce6743d019e9",
            "b9733fe1b36445b0a8690fd546cc0ecb",
            "735d78bba34c4385b1d685e89976215c",
            "cfe1e268f76a46558f3b2b948007980f",
            "10781cd2c115496ea686052408cffe38",
            "fa0bad125d3c4815bfa9ac11e187cf7e",
            "ef888436d7a44bf7b4585fe88fe881cb",
            "9fd7229671254890bdc879c83e214e3b",
            "4ce38c64fc8c4254b66dd573d739a71f",
            "39f6f033d1b940629256975d11c24a18",
            "c2f5a1ec29734ba4939cee080d349f31",
            "ebfa4f4f72d04fb3a45950c6ac290713"
          ]
        },
        "id": "RRjrBK7exhGC",
        "outputId": "43313596-2531-4d70-cae8-29c00bbe9d6e"
      },
      "execution_count": null,
      "outputs": [
        {
          "output_type": "display_data",
          "data": {
            "text/plain": [
              "MinHash (parallel):   0%|          | 0/269709 [00:00<?, ?read/s]"
            ],
            "application/vnd.jupyter.widget-view+json": {
              "version_major": 2,
              "version_minor": 0,
              "model_id": "acbe2bc31be04048ae0ed225d1695f51"
            }
          },
          "metadata": {}
        },
        {
          "output_type": "display_data",
          "data": {
            "text/plain": [
              "  0%|          | 0/269709 [00:00<?, ?it/s]"
            ],
            "application/vnd.jupyter.widget-view+json": {
              "version_major": 2,
              "version_minor": 0,
              "model_id": "b9733fe1b36445b0a8690fd546cc0ecb"
            }
          },
          "metadata": {}
        },
        {
          "output_type": "stream",
          "name": "stdout",
          "text": [
            "Index LSH construit.\n"
          ]
        }
      ]
    },
    {
      "cell_type": "code",
      "source": [
        "# @title Graphe sparse: top-k voisins par nœud via distance d'édition  { vertical-output: true }\n",
        "import edlib\n",
        "from tqdm import tqdm\n",
        "\n",
        "TOP_K          = 20        # voisins conservés par nœud (après LSH)\n",
        "MAX_EDGES      = None      # limite dure sur le nombre d'arêtes (None = pas de limite)\n",
        "NORMALIZE_BY   = \"maxlen\"  # \"maxlen\" ou \"meanlen\"\n",
        "\n",
        "def norm_edit(a: str, b: str) -> float:\n",
        "    dist = edlib.align(a, b, task=\"distance\")[\"editDistance\"]\n",
        "    if NORMALIZE_BY == \"maxlen\":\n",
        "        denom = max(len(a), len(b))\n",
        "    else:\n",
        "        denom = 0.5*(len(a)+len(b))\n",
        "    return dist / max(1, denom)\n",
        "\n",
        "edges = []\n",
        "edge_count = 0\n",
        "for i, mi in tqdm(list(enumerate(sketches)), total=len(sketches), desc=\"Voisins + distances\"):\n",
        "    candidates = lsh.query(mi)\n",
        "    candidates = [j for j in candidates if j != i]\n",
        "    if not candidates:\n",
        "        continue\n",
        "    # score Jaccard approx pour prioriser\n",
        "    scored = [(j, mi.jaccard(sketches[j])) for j in candidates]\n",
        "    scored.sort(key=lambda t: t[1], reverse=True)\n",
        "    keep = scored[:TOP_K]\n",
        "    for j, jac in keep:\n",
        "        if j < i:\n",
        "            # construire une seule fois l'arête (i<->j non orienté)\n",
        "            continue\n",
        "        d = norm_edit(reads[i], reads[j])\n",
        "        edges.append((i, j, float(d), float(jac)))\n",
        "        edge_count += 1\n",
        "        if MAX_EDGES and edge_count >= MAX_EDGES:\n",
        "            break\n",
        "    if MAX_EDGES and edge_count >= MAX_EDGES:\n",
        "        break\n",
        "\n",
        "print(f\"{len(edges)} arêtes construites (non orientées).\")\n"
      ],
      "metadata": {
        "colab": {
          "base_uri": "https://localhost:8080/"
        },
        "id": "F5g4Zz47xpZ-",
        "outputId": "ff8cf789-fff7-4c3f-c437-29f4ff4e8cf7"
      },
      "execution_count": null,
      "outputs": [
        {
          "output_type": "stream",
          "name": "stderr",
          "text": [
            "Voisins + distances: 100%|██████████| 269709/269709 [00:49<00:00, 5488.92it/s]\n"
          ]
        },
        {
          "output_type": "stream",
          "name": "stdout",
          "text": [
            "1439780 arêtes construites (non orientées).\n"
          ]
        }
      ]
    }
  ]
}